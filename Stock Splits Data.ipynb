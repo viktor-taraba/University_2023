{
 "cells": [
  {
   "cell_type": "code",
   "execution_count": 27,
   "id": "useful-queue",
   "metadata": {},
   "outputs": [],
   "source": [
    "import yfinance as yf\n",
    "import pandas as pd\n",
    "from sqlalchemy import create_engine\n",
    "import urllib\n",
    "from datetime import datetime\n",
    "from datetime import date\n",
    "import datetime"
   ]
  },
  {
   "cell_type": "code",
   "execution_count": 3,
   "id": "conceptual-denial",
   "metadata": {},
   "outputs": [],
   "source": [
    "quoted = urllib.parse.quote_plus(\"Driver={SQL Server Native Client 11.0};Server=VIKTOR-PC-2001;Database=DividendPolicyResearch;Trusted_Connection=yes;\")\n",
    "engine = create_engine('mssql+pyodbc:///?odbc_connect={}'.format(quoted))"
   ]
  },
  {
   "cell_type": "code",
   "execution_count": 4,
   "id": "spanish-nelson",
   "metadata": {},
   "outputs": [
    {
     "data": {
      "text/html": [
       "<div>\n",
       "<style scoped>\n",
       "    .dataframe tbody tr th:only-of-type {\n",
       "        vertical-align: middle;\n",
       "    }\n",
       "\n",
       "    .dataframe tbody tr th {\n",
       "        vertical-align: top;\n",
       "    }\n",
       "\n",
       "    .dataframe thead th {\n",
       "        text-align: right;\n",
       "    }\n",
       "</style>\n",
       "<table border=\"1\" class=\"dataframe\">\n",
       "  <thead>\n",
       "    <tr style=\"text-align: right;\">\n",
       "      <th></th>\n",
       "      <th>0</th>\n",
       "    </tr>\n",
       "  </thead>\n",
       "  <tbody>\n",
       "    <tr>\n",
       "      <th>0</th>\n",
       "      <td>AAPL</td>\n",
       "    </tr>\n",
       "    <tr>\n",
       "      <th>1</th>\n",
       "      <td>ABBV</td>\n",
       "    </tr>\n",
       "    <tr>\n",
       "      <th>2</th>\n",
       "      <td>ABT</td>\n",
       "    </tr>\n",
       "    <tr>\n",
       "      <th>3</th>\n",
       "      <td>ACN</td>\n",
       "    </tr>\n",
       "    <tr>\n",
       "      <th>4</th>\n",
       "      <td>ADBE</td>\n",
       "    </tr>\n",
       "  </tbody>\n",
       "</table>\n",
       "</div>"
      ],
      "text/plain": [
       "      0\n",
       "0  AAPL\n",
       "1  ABBV\n",
       "2   ABT\n",
       "3   ACN\n",
       "4  ADBE"
      ]
     },
     "execution_count": 4,
     "metadata": {},
     "output_type": "execute_result"
    }
   ],
   "source": [
    "result = engine.execute('SELECT [Ticker] FROM [dbo].[tb_sp100_tickers]')\n",
    "df_SP100_companies = pd.DataFrame(result.fetchall())\n",
    "df_SP100_companies.head()"
   ]
  },
  {
   "cell_type": "code",
   "execution_count": 5,
   "id": "novel-nerve",
   "metadata": {},
   "outputs": [
    {
     "data": {
      "text/plain": [
       "101"
      ]
     },
     "execution_count": 5,
     "metadata": {},
     "output_type": "execute_result"
    }
   ],
   "source": [
    "ticker_list = df_SP100_companies[df_SP100_companies.columns[0]].values.tolist()\n",
    "len(ticker_list)"
   ]
  },
  {
   "cell_type": "code",
   "execution_count": 7,
   "id": "accepted-voice",
   "metadata": {},
   "outputs": [
    {
     "data": {
      "text/plain": [
       "['AAPL', 'ABBV', 'ABT', 'ACN', 'ADBE']"
      ]
     },
     "execution_count": 7,
     "metadata": {},
     "output_type": "execute_result"
    }
   ],
   "source": [
    "ticker_list[0:5]"
   ]
  },
  {
   "cell_type": "code",
   "execution_count": 19,
   "id": "younger-centre",
   "metadata": {},
   "outputs": [
    {
     "name": "stdout",
     "output_type": "stream",
     "text": [
      "1. AAPL. Stock data (rows): 5.\n",
      "2. ABBV. Stock data (rows): 0.\n",
      "3. ABT. Stock data (rows): 7.\n",
      "4. ACN. Stock data (rows): 0.\n",
      "5. ADBE. Stock data (rows): 6.\n",
      "6. AIG. Stock data (rows): 13.\n",
      "7. AMD. Stock data (rows): 4.\n",
      "8. AMGN. Stock data (rows): 5.\n",
      "9. AMT. Stock data (rows): 0.\n",
      "10. AMZN. Stock data (rows): 4.\n",
      "11. AVGO. Stock data (rows): 0.\n",
      "12. AXP. Stock data (rows): 6.\n",
      "13. BA. Stock data (rows): 8.\n",
      "14. BAC. Stock data (rows): 3.\n",
      "15. BK. Stock data (rows): 6.\n",
      "16. BKNG. Stock data (rows): 1.\n",
      "17. BLK. Stock data (rows): 0.\n",
      "18. BMY. Stock data (rows): 6.\n",
      "19. BRK-B. Stock data (rows): 1.\n",
      "20. C. Stock data (rows): 10.\n",
      "21. CAT. Stock data (rows): 5.\n",
      "22. CHTR. Stock data (rows): 0.\n",
      "23. CL. Stock data (rows): 5.\n",
      "24. CMCSA. Stock data (rows): 12.\n",
      "25. COF. Stock data (rows): 1.\n",
      "26. COP. Stock data (rows): 3.\n",
      "27. COST. Stock data (rows): 2.\n",
      "28. CRM. Stock data (rows): 1.\n",
      "29. CSCO. Stock data (rows): 9.\n",
      "30. CVS. Stock data (rows): 4.\n",
      "31. CVX. Stock data (rows): 5.\n",
      "32. DE. Stock data (rows): 4.\n",
      "33. DHR. Stock data (rows): 7.\n",
      "34. DIS. Stock data (rows): 8.\n",
      "35. DOW. Stock data (rows): 0.\n",
      "36. DUK. Stock data (rows): 4.\n",
      "37. EMR. Stock data (rows): 4.\n",
      "38. EXC. Stock data (rows): 2.\n",
      "39. F. Stock data (rows): 8.\n",
      "40. FDX. Stock data (rows): 5.\n",
      "41. GD. Stock data (rows): 5.\n",
      "42. GE. Stock data (rows): 9.\n",
      "43. GILD. Stock data (rows): 5.\n",
      "44. GM. Stock data (rows): 0.\n",
      "45. GOOG. Stock data (rows): 3.\n",
      "46. GOOGL. Stock data (rows): 2.\n",
      "47. GS. Stock data (rows): 0.\n",
      "48. HD. Stock data (rows): 13.\n",
      "49. HON. Stock data (rows): 9.\n",
      "50. IBM. Stock data (rows): 8.\n",
      "51. INTC. Stock data (rows): 8.\n",
      "52. JNJ. Stock data (rows): 7.\n",
      "53. JPM. Stock data (rows): 4.\n",
      "54. KHC. Stock data (rows): 0.\n",
      "55. KO. Stock data (rows): 8.\n",
      "56. LIN. Stock data (rows): 1.\n",
      "57. LLY. Stock data (rows): 4.\n",
      "58. LMT. Stock data (rows): 3.\n",
      "59. LOW. Stock data (rows): 5.\n",
      "60. MA. Stock data (rows): 1.\n",
      "61. MCD. Stock data (rows): 9.\n",
      "62. MDLZ. Stock data (rows): 0.\n",
      "63. MDT. Stock data (rows): 7.\n",
      "64. MET. Stock data (rows): 1.\n",
      "65. META. Stock data (rows): 0.\n",
      "66. MMM. Stock data (rows): 4.\n",
      "67. MO. Stock data (rows): 7.\n",
      "68. MRK. Stock data (rows): 7.\n",
      "69. MS. Stock data (rows): 2.\n",
      "70. MSFT. Stock data (rows): 9.\n",
      "71. NEE. Stock data (rows): 3.\n",
      "72. NFLX. Stock data (rows): 2.\n",
      "73. NKE. Stock data (rows): 6.\n",
      "74. NVDA. Stock data (rows): 5.\n",
      "75. ORCL. Stock data (rows): 10.\n",
      "76. PEP. Stock data (rows): 4.\n",
      "77. PFE. Stock data (rows): 6.\n",
      "78. PG. Stock data (rows): 6.\n",
      "79. PM. Stock data (rows): 0.\n",
      "80. PYPL. Stock data (rows): 0.\n",
      "81. QCOM. Stock data (rows): 4.\n",
      "82. RTX. Stock data (rows): 7.\n",
      "83. SBUX. Stock data (rows): 6.\n",
      "84. SCHW. Stock data (rows): 8.\n",
      "85. SO. Stock data (rows): 2.\n",
      "86. SPG. Stock data (rows): 3.\n",
      "87. T. Stock data (rows): 4.\n",
      "88. TGT. Stock data (rows): 5.\n",
      "89. TMO. Stock data (rows): 6.\n",
      "90. TMUS. Stock data (rows): 1.\n",
      "91. TSLA. Stock data (rows): 2.\n",
      "92. TXN. Stock data (rows): 6.\n",
      "93. UNH. Stock data (rows): 5.\n",
      "94. UNP. Stock data (rows): 5.\n",
      "95. UPS. Stock data (rows): 0.\n",
      "96. USB. Stock data (rows): 5.\n",
      "97. V. Stock data (rows): 1.\n",
      "98. VZ. Stock data (rows): 6.\n",
      "99. WFC. Stock data (rows): 6.\n",
      "100. WMT. Stock data (rows): 9.\n",
      "101. XOM. Stock data (rows): 5.\n"
     ]
    }
   ],
   "source": [
    "df_splits_final = pd.DataFrame()\n",
    "df_splits = pd.DataFrame()\n",
    "i = 1\n",
    "\n",
    "for ticker in ticker_list:\n",
    "  stock = yf.Ticker(ticker)\n",
    "\n",
    "  splits = stock.splits\n",
    "  df_splits =  pd.DataFrame(splits.to_frame().reset_index())\n",
    "  df_splits[\"Ticker\"] = ticker\n",
    "\n",
    "  df_splits_final=pd.concat([df_splits_final, df_splits], ignore_index=True)\n",
    "\n",
    "  print(str(i) + '. '+ ticker + '. Stock data (rows): ' + str(df_splits.shape[0]) + '.')\n",
    "  i += 1"
   ]
  },
  {
   "cell_type": "code",
   "execution_count": 20,
   "id": "wrong-expert",
   "metadata": {},
   "outputs": [
    {
     "data": {
      "text/html": [
       "<div>\n",
       "<style scoped>\n",
       "    .dataframe tbody tr th:only-of-type {\n",
       "        vertical-align: middle;\n",
       "    }\n",
       "\n",
       "    .dataframe tbody tr th {\n",
       "        vertical-align: top;\n",
       "    }\n",
       "\n",
       "    .dataframe thead th {\n",
       "        text-align: right;\n",
       "    }\n",
       "</style>\n",
       "<table border=\"1\" class=\"dataframe\">\n",
       "  <thead>\n",
       "    <tr style=\"text-align: right;\">\n",
       "      <th></th>\n",
       "      <th>Date</th>\n",
       "      <th>Stock Splits</th>\n",
       "      <th>Ticker</th>\n",
       "    </tr>\n",
       "  </thead>\n",
       "  <tbody>\n",
       "    <tr>\n",
       "      <th>0</th>\n",
       "      <td>1987-06-16 00:00:00-04:00</td>\n",
       "      <td>2.0</td>\n",
       "      <td>AAPL</td>\n",
       "    </tr>\n",
       "    <tr>\n",
       "      <th>1</th>\n",
       "      <td>2000-06-21 00:00:00-04:00</td>\n",
       "      <td>2.0</td>\n",
       "      <td>AAPL</td>\n",
       "    </tr>\n",
       "    <tr>\n",
       "      <th>2</th>\n",
       "      <td>2005-02-28 00:00:00-05:00</td>\n",
       "      <td>2.0</td>\n",
       "      <td>AAPL</td>\n",
       "    </tr>\n",
       "    <tr>\n",
       "      <th>3</th>\n",
       "      <td>2014-06-09 00:00:00-04:00</td>\n",
       "      <td>7.0</td>\n",
       "      <td>AAPL</td>\n",
       "    </tr>\n",
       "    <tr>\n",
       "      <th>4</th>\n",
       "      <td>2020-08-31 00:00:00-04:00</td>\n",
       "      <td>4.0</td>\n",
       "      <td>AAPL</td>\n",
       "    </tr>\n",
       "    <tr>\n",
       "      <th>...</th>\n",
       "      <td>...</td>\n",
       "      <td>...</td>\n",
       "      <td>...</td>\n",
       "    </tr>\n",
       "    <tr>\n",
       "      <th>448</th>\n",
       "      <td>1976-07-26 00:00:00-04:00</td>\n",
       "      <td>2.0</td>\n",
       "      <td>XOM</td>\n",
       "    </tr>\n",
       "    <tr>\n",
       "      <th>449</th>\n",
       "      <td>1981-06-12 00:00:00-04:00</td>\n",
       "      <td>2.0</td>\n",
       "      <td>XOM</td>\n",
       "    </tr>\n",
       "    <tr>\n",
       "      <th>450</th>\n",
       "      <td>1987-09-15 00:00:00-04:00</td>\n",
       "      <td>2.0</td>\n",
       "      <td>XOM</td>\n",
       "    </tr>\n",
       "    <tr>\n",
       "      <th>451</th>\n",
       "      <td>1997-04-14 00:00:00-04:00</td>\n",
       "      <td>2.0</td>\n",
       "      <td>XOM</td>\n",
       "    </tr>\n",
       "    <tr>\n",
       "      <th>452</th>\n",
       "      <td>2001-07-19 00:00:00-04:00</td>\n",
       "      <td>2.0</td>\n",
       "      <td>XOM</td>\n",
       "    </tr>\n",
       "  </tbody>\n",
       "</table>\n",
       "<p>453 rows × 3 columns</p>\n",
       "</div>"
      ],
      "text/plain": [
       "                         Date  Stock Splits Ticker\n",
       "0   1987-06-16 00:00:00-04:00           2.0   AAPL\n",
       "1   2000-06-21 00:00:00-04:00           2.0   AAPL\n",
       "2   2005-02-28 00:00:00-05:00           2.0   AAPL\n",
       "3   2014-06-09 00:00:00-04:00           7.0   AAPL\n",
       "4   2020-08-31 00:00:00-04:00           4.0   AAPL\n",
       "..                        ...           ...    ...\n",
       "448 1976-07-26 00:00:00-04:00           2.0    XOM\n",
       "449 1981-06-12 00:00:00-04:00           2.0    XOM\n",
       "450 1987-09-15 00:00:00-04:00           2.0    XOM\n",
       "451 1997-04-14 00:00:00-04:00           2.0    XOM\n",
       "452 2001-07-19 00:00:00-04:00           2.0    XOM\n",
       "\n",
       "[453 rows x 3 columns]"
      ]
     },
     "execution_count": 20,
     "metadata": {},
     "output_type": "execute_result"
    }
   ],
   "source": [
    "df_splits_final"
   ]
  },
  {
   "cell_type": "code",
   "execution_count": 22,
   "id": "acoustic-communications",
   "metadata": {},
   "outputs": [
    {
     "name": "stdout",
     "output_type": "stream",
     "text": [
      "<class 'pandas.core.frame.DataFrame'>\n",
      "RangeIndex: 453 entries, 0 to 452\n",
      "Data columns (total 3 columns):\n",
      " #   Column        Non-Null Count  Dtype                           \n",
      "---  ------        --------------  -----                           \n",
      " 0   Date          453 non-null    datetime64[ns, America/New_York]\n",
      " 1   Stock Splits  453 non-null    float64                         \n",
      " 2   Ticker        453 non-null    object                          \n",
      "dtypes: datetime64[ns, America/New_York](1), float64(1), object(1)\n",
      "memory usage: 10.7+ KB\n"
     ]
    }
   ],
   "source": [
    "df_splits_final.info()"
   ]
  },
  {
   "cell_type": "code",
   "execution_count": 28,
   "id": "eligible-berlin",
   "metadata": {},
   "outputs": [
    {
     "data": {
      "text/html": [
       "<div>\n",
       "<style scoped>\n",
       "    .dataframe tbody tr th:only-of-type {\n",
       "        vertical-align: middle;\n",
       "    }\n",
       "\n",
       "    .dataframe tbody tr th {\n",
       "        vertical-align: top;\n",
       "    }\n",
       "\n",
       "    .dataframe thead th {\n",
       "        text-align: right;\n",
       "    }\n",
       "</style>\n",
       "<table border=\"1\" class=\"dataframe\">\n",
       "  <thead>\n",
       "    <tr style=\"text-align: right;\">\n",
       "      <th></th>\n",
       "      <th>Date</th>\n",
       "      <th>Stock Splits</th>\n",
       "      <th>Ticker</th>\n",
       "      <th>date_insert</th>\n",
       "      <th>time_insert</th>\n",
       "    </tr>\n",
       "  </thead>\n",
       "  <tbody>\n",
       "    <tr>\n",
       "      <th>0</th>\n",
       "      <td>1987-06-16 00:00:00-04:00</td>\n",
       "      <td>2.0</td>\n",
       "      <td>AAPL</td>\n",
       "      <td>2024-01-08</td>\n",
       "      <td>23:14:03</td>\n",
       "    </tr>\n",
       "    <tr>\n",
       "      <th>1</th>\n",
       "      <td>2000-06-21 00:00:00-04:00</td>\n",
       "      <td>2.0</td>\n",
       "      <td>AAPL</td>\n",
       "      <td>2024-01-08</td>\n",
       "      <td>23:14:03</td>\n",
       "    </tr>\n",
       "    <tr>\n",
       "      <th>2</th>\n",
       "      <td>2005-02-28 00:00:00-05:00</td>\n",
       "      <td>2.0</td>\n",
       "      <td>AAPL</td>\n",
       "      <td>2024-01-08</td>\n",
       "      <td>23:14:03</td>\n",
       "    </tr>\n",
       "    <tr>\n",
       "      <th>3</th>\n",
       "      <td>2014-06-09 00:00:00-04:00</td>\n",
       "      <td>7.0</td>\n",
       "      <td>AAPL</td>\n",
       "      <td>2024-01-08</td>\n",
       "      <td>23:14:03</td>\n",
       "    </tr>\n",
       "    <tr>\n",
       "      <th>4</th>\n",
       "      <td>2020-08-31 00:00:00-04:00</td>\n",
       "      <td>4.0</td>\n",
       "      <td>AAPL</td>\n",
       "      <td>2024-01-08</td>\n",
       "      <td>23:14:03</td>\n",
       "    </tr>\n",
       "    <tr>\n",
       "      <th>...</th>\n",
       "      <td>...</td>\n",
       "      <td>...</td>\n",
       "      <td>...</td>\n",
       "      <td>...</td>\n",
       "      <td>...</td>\n",
       "    </tr>\n",
       "    <tr>\n",
       "      <th>448</th>\n",
       "      <td>1976-07-26 00:00:00-04:00</td>\n",
       "      <td>2.0</td>\n",
       "      <td>XOM</td>\n",
       "      <td>2024-01-08</td>\n",
       "      <td>23:14:03</td>\n",
       "    </tr>\n",
       "    <tr>\n",
       "      <th>449</th>\n",
       "      <td>1981-06-12 00:00:00-04:00</td>\n",
       "      <td>2.0</td>\n",
       "      <td>XOM</td>\n",
       "      <td>2024-01-08</td>\n",
       "      <td>23:14:03</td>\n",
       "    </tr>\n",
       "    <tr>\n",
       "      <th>450</th>\n",
       "      <td>1987-09-15 00:00:00-04:00</td>\n",
       "      <td>2.0</td>\n",
       "      <td>XOM</td>\n",
       "      <td>2024-01-08</td>\n",
       "      <td>23:14:03</td>\n",
       "    </tr>\n",
       "    <tr>\n",
       "      <th>451</th>\n",
       "      <td>1997-04-14 00:00:00-04:00</td>\n",
       "      <td>2.0</td>\n",
       "      <td>XOM</td>\n",
       "      <td>2024-01-08</td>\n",
       "      <td>23:14:03</td>\n",
       "    </tr>\n",
       "    <tr>\n",
       "      <th>452</th>\n",
       "      <td>2001-07-19 00:00:00-04:00</td>\n",
       "      <td>2.0</td>\n",
       "      <td>XOM</td>\n",
       "      <td>2024-01-08</td>\n",
       "      <td>23:14:03</td>\n",
       "    </tr>\n",
       "  </tbody>\n",
       "</table>\n",
       "<p>453 rows × 5 columns</p>\n",
       "</div>"
      ],
      "text/plain": [
       "                         Date  Stock Splits Ticker date_insert time_insert\n",
       "0   1987-06-16 00:00:00-04:00           2.0   AAPL  2024-01-08    23:14:03\n",
       "1   2000-06-21 00:00:00-04:00           2.0   AAPL  2024-01-08    23:14:03\n",
       "2   2005-02-28 00:00:00-05:00           2.0   AAPL  2024-01-08    23:14:03\n",
       "3   2014-06-09 00:00:00-04:00           7.0   AAPL  2024-01-08    23:14:03\n",
       "4   2020-08-31 00:00:00-04:00           4.0   AAPL  2024-01-08    23:14:03\n",
       "..                        ...           ...    ...         ...         ...\n",
       "448 1976-07-26 00:00:00-04:00           2.0    XOM  2024-01-08    23:14:03\n",
       "449 1981-06-12 00:00:00-04:00           2.0    XOM  2024-01-08    23:14:03\n",
       "450 1987-09-15 00:00:00-04:00           2.0    XOM  2024-01-08    23:14:03\n",
       "451 1997-04-14 00:00:00-04:00           2.0    XOM  2024-01-08    23:14:03\n",
       "452 2001-07-19 00:00:00-04:00           2.0    XOM  2024-01-08    23:14:03\n",
       "\n",
       "[453 rows x 5 columns]"
      ]
     },
     "execution_count": 28,
     "metadata": {},
     "output_type": "execute_result"
    }
   ],
   "source": [
    "df_splits_final[\"date_insert\"] = datetime.datetime.now().strftime(\"%Y-%m-%d\")\n",
    "df_splits_final[\"time_insert\"] = datetime.datetime.now().strftime(\"%H:%M:%S\")\n",
    "df_splits_final"
   ]
  },
  {
   "cell_type": "code",
   "execution_count": 31,
   "id": "headed-grain",
   "metadata": {},
   "outputs": [
    {
     "data": {
      "text/plain": [
       "0"
      ]
     },
     "execution_count": 31,
     "metadata": {},
     "output_type": "execute_result"
    }
   ],
   "source": [
    "result = engine.execute('SELECT COUNT(*) FROM [dbo].[tb_sp100_splits]')\n",
    "result.fetchall()[0][0]"
   ]
  },
  {
   "cell_type": "code",
   "execution_count": 32,
   "id": "growing-treatment",
   "metadata": {},
   "outputs": [],
   "source": [
    "df_splits_final.to_sql('tb_sp100_splits', schema='dbo', con = engine, if_exists='append',index=False)"
   ]
  },
  {
   "cell_type": "code",
   "execution_count": 33,
   "id": "simple-tuesday",
   "metadata": {},
   "outputs": [
    {
     "data": {
      "text/plain": [
       "453"
      ]
     },
     "execution_count": 33,
     "metadata": {},
     "output_type": "execute_result"
    }
   ],
   "source": [
    "result = engine.execute('SELECT COUNT(*) FROM [dbo].[tb_sp100_splits]')\n",
    "result.fetchall()[0][0] "
   ]
  }
 ],
 "metadata": {
  "kernelspec": {
   "display_name": "Python 3",
   "language": "python",
   "name": "python3"
  },
  "language_info": {
   "codemirror_mode": {
    "name": "ipython",
    "version": 3
   },
   "file_extension": ".py",
   "mimetype": "text/x-python",
   "name": "python",
   "nbconvert_exporter": "python",
   "pygments_lexer": "ipython3",
   "version": "3.7.8"
  }
 },
 "nbformat": 4,
 "nbformat_minor": 5
}
