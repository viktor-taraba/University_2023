{
 "cells": [
  {
   "cell_type": "code",
   "execution_count": 1,
   "metadata": {
    "id": "k5XsvhWGpd1w"
   },
   "outputs": [],
   "source": [
    "import pandas as pd\n",
    "import yfinance as yf\n",
    "from yahoo_fin import stock_info as si\n",
    "from sqlalchemy import create_engine\n",
    "import urllib\n",
    "import time\n",
    "from datetime import datetime\n",
    "from datetime import date\n",
    "import datetime"
   ]
  },
  {
   "cell_type": "markdown",
   "metadata": {
    "id": "gnxdTTHLm27n"
   },
   "source": [
    "#### **Отримуємо список тікерів, що входять до індексу SP100**"
   ]
  },
  {
   "cell_type": "code",
   "execution_count": 2,
   "metadata": {},
   "outputs": [],
   "source": [
    "quoted = urllib.parse.quote_plus(\"Driver={SQL Server Native Client 11.0};Server=VIKTOR-PC-2001;Database=DividendPolicyResearch;Trusted_Connection=yes;\")\n",
    "engine = create_engine('mssql+pyodbc:///?odbc_connect={}'.format(quoted))"
   ]
  },
  {
   "cell_type": "code",
   "execution_count": 18,
   "metadata": {},
   "outputs": [
    {
     "data": {
      "text/plain": [
       "<sqlalchemy.engine.cursor.LegacyCursorResult at 0x1efffc93f48>"
      ]
     },
     "execution_count": 18,
     "metadata": {},
     "output_type": "execute_result"
    }
   ],
   "source": [
    "engine.execute('''\n",
    "                update [dbo].[tb_sp100_tickers]\n",
    "                set [Ticker] = 'BRK-B'\n",
    "                from [dbo].[tb_sp100_tickers]\n",
    "                where [Ticker] = 'BRKB';\n",
    "                ''')"
   ]
  },
  {
   "cell_type": "code",
   "execution_count": 19,
   "metadata": {},
   "outputs": [
    {
     "data": {
      "text/html": [
       "<div>\n",
       "<style scoped>\n",
       "    .dataframe tbody tr th:only-of-type {\n",
       "        vertical-align: middle;\n",
       "    }\n",
       "\n",
       "    .dataframe tbody tr th {\n",
       "        vertical-align: top;\n",
       "    }\n",
       "\n",
       "    .dataframe thead th {\n",
       "        text-align: right;\n",
       "    }\n",
       "</style>\n",
       "<table border=\"1\" class=\"dataframe\">\n",
       "  <thead>\n",
       "    <tr style=\"text-align: right;\">\n",
       "      <th></th>\n",
       "      <th>0</th>\n",
       "    </tr>\n",
       "  </thead>\n",
       "  <tbody>\n",
       "    <tr>\n",
       "      <th>0</th>\n",
       "      <td>AAPL</td>\n",
       "    </tr>\n",
       "    <tr>\n",
       "      <th>1</th>\n",
       "      <td>ABBV</td>\n",
       "    </tr>\n",
       "    <tr>\n",
       "      <th>2</th>\n",
       "      <td>ABT</td>\n",
       "    </tr>\n",
       "    <tr>\n",
       "      <th>3</th>\n",
       "      <td>ACN</td>\n",
       "    </tr>\n",
       "    <tr>\n",
       "      <th>4</th>\n",
       "      <td>ADBE</td>\n",
       "    </tr>\n",
       "    <tr>\n",
       "      <th>...</th>\n",
       "      <td>...</td>\n",
       "    </tr>\n",
       "    <tr>\n",
       "      <th>96</th>\n",
       "      <td>V</td>\n",
       "    </tr>\n",
       "    <tr>\n",
       "      <th>97</th>\n",
       "      <td>VZ</td>\n",
       "    </tr>\n",
       "    <tr>\n",
       "      <th>98</th>\n",
       "      <td>WFC</td>\n",
       "    </tr>\n",
       "    <tr>\n",
       "      <th>99</th>\n",
       "      <td>WMT</td>\n",
       "    </tr>\n",
       "    <tr>\n",
       "      <th>100</th>\n",
       "      <td>XOM</td>\n",
       "    </tr>\n",
       "  </tbody>\n",
       "</table>\n",
       "<p>101 rows × 1 columns</p>\n",
       "</div>"
      ],
      "text/plain": [
       "        0\n",
       "0    AAPL\n",
       "1    ABBV\n",
       "2     ABT\n",
       "3     ACN\n",
       "4    ADBE\n",
       "..    ...\n",
       "96      V\n",
       "97     VZ\n",
       "98    WFC\n",
       "99    WMT\n",
       "100   XOM\n",
       "\n",
       "[101 rows x 1 columns]"
      ]
     },
     "execution_count": 19,
     "metadata": {},
     "output_type": "execute_result"
    }
   ],
   "source": [
    "result = engine.execute('SELECT [Ticker] FROM [dbo].[tb_sp100_tickers]')\n",
    "df_SP100 = pd.DataFrame(result.fetchall())\n",
    "df_SP100"
   ]
  },
  {
   "cell_type": "code",
   "execution_count": 20,
   "metadata": {
    "colab": {
     "base_uri": "https://localhost:8080/"
    },
    "id": "h8cSAFVbp6-h",
    "outputId": "4a6b0c1b-1e2b-412b-afb1-aab509713af5"
   },
   "outputs": [
    {
     "data": {
      "text/plain": [
       "101"
      ]
     },
     "execution_count": 20,
     "metadata": {},
     "output_type": "execute_result"
    }
   ],
   "source": [
    "ticker_list = df_SP100[df_SP100.columns[0]].values.tolist()\n",
    "len(ticker_list)"
   ]
  },
  {
   "cell_type": "code",
   "execution_count": 21,
   "metadata": {
    "colab": {
     "base_uri": "https://localhost:8080/"
    },
    "id": "rUc98cOgncMr",
    "outputId": "f3511da8-8d99-4239-e11b-afbc82412c20"
   },
   "outputs": [
    {
     "data": {
      "text/plain": [
       "['AAPL', 'ABBV', 'ABT', 'ACN', 'ADBE']"
      ]
     },
     "execution_count": 21,
     "metadata": {},
     "output_type": "execute_result"
    }
   ],
   "source": [
    "ticker_list[0:5]"
   ]
  },
  {
   "cell_type": "code",
   "execution_count": 22,
   "metadata": {
    "id": "8AwaNFzls4Q2"
   },
   "outputs": [],
   "source": [
    "pd.options.display.max_colwidth = 5000"
   ]
  },
  {
   "cell_type": "markdown",
   "metadata": {
    "id": "BDAxetflwkvJ"
   },
   "source": [
    "#### **Отримуємо інформацію про компанію та дані по виплатах дивідендів для всіх акцій з SP100**"
   ]
  },
  {
   "cell_type": "code",
   "execution_count": 10,
   "metadata": {},
   "outputs": [
    {
     "name": "stdout",
     "output_type": "stream",
     "text": [
      "Requirement already satisfied: yfinance in d:\\python\\lib\\site-packages (0.2.18)"
     ]
    },
    {
     "name": "stderr",
     "output_type": "stream",
     "text": [
      "\n",
      "[notice] A new release of pip is available: 23.3 -> 23.3.2\n",
      "[notice] To update, run: python.exe -m pip install --upgrade pip\n"
     ]
    },
    {
     "name": "stdout",
     "output_type": "stream",
     "text": [
      "\n",
      "Collecting yfinance\n",
      "  Downloading yfinance-0.2.33-py2.py3-none-any.whl.metadata (11 kB)\n",
      "Requirement already satisfied: pandas>=1.3.0 in d:\\python\\lib\\site-packages (from yfinance) (1.3.5)\n",
      "Requirement already satisfied: numpy>=1.16.5 in d:\\python\\lib\\site-packages (from yfinance) (1.19.5)\n",
      "Collecting requests>=2.31 (from yfinance)\n",
      "  Downloading requests-2.31.0-py3-none-any.whl.metadata (4.6 kB)\n",
      "Requirement already satisfied: multitasking>=0.0.7 in d:\\python\\lib\\site-packages (from yfinance) (0.0.9)\n",
      "Requirement already satisfied: lxml>=4.9.1 in d:\\python\\lib\\site-packages (from yfinance) (4.9.2)\n",
      "Requirement already satisfied: appdirs>=1.4.4 in d:\\python\\lib\\site-packages (from yfinance) (1.4.4)\n",
      "Requirement already satisfied: pytz>=2022.5 in d:\\python\\lib\\site-packages (from yfinance) (2023.3)\n",
      "Requirement already satisfied: frozendict>=2.3.4 in d:\\python\\lib\\site-packages (from yfinance) (2.3.7)\n",
      "Collecting peewee>=3.16.2 (from yfinance)\n",
      "  Downloading peewee-3.17.0.tar.gz (2.9 MB)\n",
      "     ---------------------------------------- 2.9/2.9 MB 370.8 kB/s eta 0:00:00\n",
      "  Installing build dependencies: started\n",
      "  Installing build dependencies: finished with status 'done'\n",
      "  Getting requirements to build wheel: started\n",
      "  Getting requirements to build wheel: finished with status 'done'\n",
      "  Preparing metadata (pyproject.toml): started\n",
      "  Preparing metadata (pyproject.toml): finished with status 'done'\n",
      "Requirement already satisfied: beautifulsoup4>=4.11.1 in d:\\python\\lib\\site-packages (from yfinance) (4.12.2)\n",
      "Requirement already satisfied: html5lib>=1.1 in d:\\python\\lib\\site-packages (from yfinance) (1.1)\n",
      "Requirement already satisfied: soupsieve>1.2 in d:\\python\\lib\\site-packages (from beautifulsoup4>=4.11.1->yfinance) (2.2.1)\n",
      "Requirement already satisfied: six>=1.9 in d:\\python\\lib\\site-packages (from html5lib>=1.1->yfinance) (1.15.0)\n",
      "Requirement already satisfied: webencodings in d:\\python\\lib\\site-packages (from html5lib>=1.1->yfinance) (0.5.1)\n",
      "Requirement already satisfied: python-dateutil>=2.7.3 in d:\\python\\lib\\site-packages (from pandas>=1.3.0->yfinance) (2.8.1)\n",
      "Requirement already satisfied: charset-normalizer<4,>=2 in d:\\python\\lib\\site-packages (from requests>=2.31->yfinance) (3.1.0)\n",
      "Requirement already satisfied: idna<4,>=2.5 in d:\\python\\lib\\site-packages (from requests>=2.31->yfinance) (2.10)\n",
      "Requirement already satisfied: urllib3<3,>=1.21.1 in d:\\python\\lib\\site-packages (from requests>=2.31->yfinance) (1.26.4)\n",
      "Requirement already satisfied: certifi>=2017.4.17 in d:\\python\\lib\\site-packages (from requests>=2.31->yfinance) (2022.12.7)\n",
      "Downloading yfinance-0.2.33-py2.py3-none-any.whl (69 kB)\n",
      "   ---------------------------------------- 69.0/69.0 kB 539.2 kB/s eta 0:00:00\n",
      "Downloading requests-2.31.0-py3-none-any.whl (62 kB)\n",
      "   ---------------------------------------- 62.6/62.6 kB 556.7 kB/s eta 0:00:00\n",
      "Building wheels for collected packages: peewee\n",
      "  Building wheel for peewee (pyproject.toml): started\n",
      "  Building wheel for peewee (pyproject.toml): finished with status 'done'\n",
      "  Created wheel for peewee: filename=peewee-3.17.0-py3-none-any.whl size=135766 sha256=f391f9f457a4ab5a17f99ecabdd4f0c564f530e45d28b70b5a72fd6eca93f65d\n",
      "  Stored in directory: c:\\users\\51fb~1\\appdata\\local\\pip\\cache\\wheels\\c2\\ce\\84\\33a31720d239d310cfff49d7bf56da412b6caefec2e112f327\n",
      "Successfully built peewee\n",
      "Installing collected packages: peewee, requests, yfinance\n",
      "  Attempting uninstall: requests\n",
      "    Found existing installation: requests 2.28.2\n",
      "    Uninstalling requests-2.28.2:\n",
      "      Successfully uninstalled requests-2.28.2\n",
      "  Attempting uninstall: yfinance\n",
      "    Found existing installation: yfinance 0.2.18\n",
      "    Uninstalling yfinance-0.2.18:\n",
      "      Successfully uninstalled yfinance-0.2.18\n",
      "Successfully installed peewee-3.17.0 requests-2.31.0 yfinance-0.2.33\n"
     ]
    }
   ],
   "source": [
    "!pip install --upgrade yfinance"
   ]
  },
  {
   "cell_type": "code",
   "execution_count": 23,
   "metadata": {
    "colab": {
     "base_uri": "https://localhost:8080/"
    },
    "id": "5Tf2XLHaxMAp",
    "outputId": "2e5a85c2-1299-4107-d5bd-df92c9589c50"
   },
   "outputs": [
    {
     "name": "stdout",
     "output_type": "stream",
     "text": [
      "1. AAPL. Dividend data (rows): 81.\n",
      "2. ABBV. Dividend data (rows): 44.\n",
      "3. ABT. Dividend data (rows): 164.\n",
      "4. ACN. Dividend data (rows): 41.\n",
      "5. ADBE. Dividend data (rows): 63.\n",
      "6. AIG. Dividend data (rows): 140.\n",
      "7. AMD. Dividend data (rows): 0.\n",
      "8. AMGN. Dividend data (rows): 50.\n",
      "9. AMT. Dividend data (rows): 49.\n",
      "10. AMZN. Dividend data (rows): 0.\n",
      "11. AVGO. Dividend data (rows): 53.\n",
      "12. AXP. Dividend data (rows): 188.\n",
      "13. BA. Dividend data (rows): 228.\n",
      "14. BAC. Dividend data (rows): 151.\n",
      "15. BK. Dividend data (rows): 146.\n",
      "16. BKNG. Dividend data (rows): 0.\n",
      "17. BLK. Dividend data (rows): 82.\n",
      "18. BMY. Dividend data (rows): 205.\n",
      "19. BRK-B. Dividend data (rows): 0.\n",
      "20. C. Dividend data (rows): 140.\n",
      "21. CAT. Dividend data (rows): 199.\n",
      "22. CHTR. Dividend data (rows): 0.\n",
      "23. CL. Dividend data (rows): 202.\n",
      "24. CMCSA. Dividend data (rows): 110.\n",
      "25. COF. Dividend data (rows): 115.\n",
      "26. COP. Dividend data (rows): 176.\n",
      "27. COST. Dividend data (rows): 84.\n",
      "28. CRM. Dividend data (rows): 0.\n",
      "29. CSCO. Dividend data (rows): 51.\n",
      "30. CVS. Dividend data (rows): 157.\n",
      "31. CVX. Dividend data (rows): 218.\n",
      "32. DE. Dividend data (rows): 206.\n",
      "33. DHR. Dividend data (rows): 124.\n",
      "34. DIS. Dividend data (rows): 125.\n",
      "35. DOW. Dividend data (rows): 19.\n",
      "36. DUK. Dividend data (rows): 163.\n",
      "37. EMR. Dividend data (rows): 206.\n",
      "38. EXC. Dividend data (rows): 204.\n",
      "39. F. Dividend data (rows): 174.\n",
      "40. FDX. Dividend data (rows): 87.\n",
      "41. GD. Dividend data (rows): 205.\n",
      "42. GE. Dividend data (rows): 248.\n",
      "43. GILD. Dividend data (rows): 35.\n",
      "44. GM. Dividend data (rows): 31.\n",
      "45. GOOG. Dividend data (rows): 0.\n",
      "46. GOOGL. Dividend data (rows): 0.\n",
      "47. GS. Dividend data (rows): 99.\n",
      "48. HD. Dividend data (rows): 146.\n",
      "49. HON. Dividend data (rows): 247.\n",
      "50. IBM. Dividend data (rows): 246.\n",
      "51. INTC. Dividend data (rows): 125.\n",
      "52. JNJ. Dividend data (rows): 248.\n",
      "53. JPM. Dividend data (rows): 160.\n",
      "54. KHC. Dividend data (rows): 35.\n",
      "55. KO. Dividend data (rows): 247.\n",
      "56. LIN. Dividend data (rows): 126.\n",
      "57. LLY. Dividend data (rows): 206.\n",
      "58. LMT. Dividend data (rows): 159.\n",
      "59. LOW. Dividend data (rows): 154.\n",
      "60. MA. Dividend data (rows): 69.\n",
      "61. MCD. Dividend data (rows): 168.\n",
      "62. MDLZ. Dividend data (rows): 90.\n",
      "63. MDT. Dividend data (rows): 169.\n",
      "64. MET. Dividend data (rows): 57.\n",
      "65. META. Dividend data (rows): 0.\n",
      "66. MMM. Dividend data (rows): 246.\n",
      "67. MO. Dividend data (rows): 249.\n",
      "68. MRK. Dividend data (rows): 245.\n",
      "69. MS. Dividend data (rows): 124.\n",
      "70. MSFT. Dividend data (rows): 80.\n",
      "71. NEE. Dividend data (rows): 163.\n",
      "72. NFLX. Dividend data (rows): 0.\n",
      "73. NKE. Dividend data (rows): 146.\n",
      "74. NVDA. Dividend data (rows): 45.\n",
      "75. ORCL. Dividend data (rows): 58.\n",
      "76. PEP. Dividend data (rows): 208.\n",
      "77. PFE. Dividend data (rows): 206.\n",
      "78. PG. Dividend data (rows): 249.\n",
      "79. PM. Dividend data (rows): 64.\n",
      "80. PYPL. Dividend data (rows): 0.\n",
      "81. QCOM. Dividend data (rows): 85.\n",
      "82. RTX. Dividend data (rows): 246.\n",
      "83. SBUX. Dividend data (rows): 55.\n",
      "84. SCHW. Dividend data (rows): 139.\n",
      "85. SO. Dividend data (rows): 168.\n",
      "86. SPG. Dividend data (rows): 123.\n",
      "87. T. Dividend data (rows): 158.\n",
      "88. TGT. Dividend data (rows): 163.\n",
      "89. TMO. Dividend data (rows): 52.\n",
      "90. TMUS. Dividend data (rows): 2.\n",
      "91. TSLA. Dividend data (rows): 0.\n",
      "92. TXN. Dividend data (rows): 206.\n",
      "93. UNH. Dividend data (rows): 76.\n",
      "94. UNP. Dividend data (rows): 176.\n",
      "95. UPS. Dividend data (rows): 97.\n",
      "96. USB. Dividend data (rows): 140.\n",
      "97. V. Dividend data (rows): 62.\n",
      "98. VZ. Dividend data (rows): 158.\n",
      "99. WFC. Dividend data (rows): 208.\n",
      "100. WMT. Dividend data (rows): 198.\n",
      "101. XOM. Dividend data (rows): 247.\n"
     ]
    }
   ],
   "source": [
    "df_stock_final = pd.DataFrame()\n",
    "df_dividend_final = pd.DataFrame()\n",
    "i = 1\n",
    "\n",
    "for ticker in ticker_list:\n",
    "  stock = yf.Ticker(ticker)\n",
    "\n",
    "  df_dividends = stock.dividends.to_frame().reset_index()\n",
    "\n",
    "  if df_dividends.shape[0] > 0:\n",
    "    df_dividends['Ticker'] = ticker\n",
    "    df_dividend_final=pd.concat([df_dividend_final, df_dividends], ignore_index=True)\n",
    "  \n",
    "  print(str(i) + '. '+ ticker + '. Dividend data (rows): ' + str(df_dividends.shape[0]) + '.')\n",
    "  i += 1"
   ]
  },
  {
   "cell_type": "code",
   "execution_count": 24,
   "metadata": {
    "colab": {
     "base_uri": "https://localhost:8080/"
    },
    "id": "D8J6PW_hzWpf",
    "outputId": "69c5cb95-8510-4550-cf64-4b986db339e7"
   },
   "outputs": [
    {
     "name": "stdout",
     "output_type": "stream",
     "text": [
      "<class 'pandas.core.frame.DataFrame'>\n",
      "RangeIndex: 12557 entries, 0 to 12556\n",
      "Data columns (total 3 columns):\n",
      " #   Column     Non-Null Count  Dtype                           \n",
      "---  ------     --------------  -----                           \n",
      " 0   Date       12557 non-null  datetime64[ns, America/New_York]\n",
      " 1   Dividends  12557 non-null  float64                         \n",
      " 2   Ticker     12557 non-null  object                          \n",
      "dtypes: datetime64[ns, America/New_York](1), float64(1), object(1)\n",
      "memory usage: 294.4+ KB\n"
     ]
    }
   ],
   "source": [
    "df_dividend_final.info()"
   ]
  },
  {
   "cell_type": "code",
   "execution_count": 25,
   "metadata": {
    "colab": {
     "base_uri": "https://localhost:8080/",
     "height": 424
    },
    "id": "WW7-xXGE0ily",
    "outputId": "5641bf91-f199-4830-fa08-72fce3e29b1b"
   },
   "outputs": [
    {
     "data": {
      "text/html": [
       "<div>\n",
       "<style scoped>\n",
       "    .dataframe tbody tr th:only-of-type {\n",
       "        vertical-align: middle;\n",
       "    }\n",
       "\n",
       "    .dataframe tbody tr th {\n",
       "        vertical-align: top;\n",
       "    }\n",
       "\n",
       "    .dataframe thead th {\n",
       "        text-align: right;\n",
       "    }\n",
       "</style>\n",
       "<table border=\"1\" class=\"dataframe\">\n",
       "  <thead>\n",
       "    <tr style=\"text-align: right;\">\n",
       "      <th></th>\n",
       "      <th>Date</th>\n",
       "      <th>Dividends</th>\n",
       "      <th>Ticker</th>\n",
       "    </tr>\n",
       "  </thead>\n",
       "  <tbody>\n",
       "    <tr>\n",
       "      <th>0</th>\n",
       "      <td>1987-05-11 00:00:00-04:00</td>\n",
       "      <td>0.000536</td>\n",
       "      <td>AAPL</td>\n",
       "    </tr>\n",
       "    <tr>\n",
       "      <th>1</th>\n",
       "      <td>1987-08-10 00:00:00-04:00</td>\n",
       "      <td>0.000536</td>\n",
       "      <td>AAPL</td>\n",
       "    </tr>\n",
       "    <tr>\n",
       "      <th>2</th>\n",
       "      <td>1987-11-17 00:00:00-05:00</td>\n",
       "      <td>0.000714</td>\n",
       "      <td>AAPL</td>\n",
       "    </tr>\n",
       "    <tr>\n",
       "      <th>3</th>\n",
       "      <td>1988-02-12 00:00:00-05:00</td>\n",
       "      <td>0.000714</td>\n",
       "      <td>AAPL</td>\n",
       "    </tr>\n",
       "    <tr>\n",
       "      <th>4</th>\n",
       "      <td>1988-05-16 00:00:00-04:00</td>\n",
       "      <td>0.000714</td>\n",
       "      <td>AAPL</td>\n",
       "    </tr>\n",
       "    <tr>\n",
       "      <th>...</th>\n",
       "      <td>...</td>\n",
       "      <td>...</td>\n",
       "      <td>...</td>\n",
       "    </tr>\n",
       "    <tr>\n",
       "      <th>12552</th>\n",
       "      <td>2022-11-14 00:00:00-05:00</td>\n",
       "      <td>0.910000</td>\n",
       "      <td>XOM</td>\n",
       "    </tr>\n",
       "    <tr>\n",
       "      <th>12553</th>\n",
       "      <td>2023-02-13 00:00:00-05:00</td>\n",
       "      <td>0.910000</td>\n",
       "      <td>XOM</td>\n",
       "    </tr>\n",
       "    <tr>\n",
       "      <th>12554</th>\n",
       "      <td>2023-05-15 00:00:00-04:00</td>\n",
       "      <td>0.910000</td>\n",
       "      <td>XOM</td>\n",
       "    </tr>\n",
       "    <tr>\n",
       "      <th>12555</th>\n",
       "      <td>2023-08-15 00:00:00-04:00</td>\n",
       "      <td>0.910000</td>\n",
       "      <td>XOM</td>\n",
       "    </tr>\n",
       "    <tr>\n",
       "      <th>12556</th>\n",
       "      <td>2023-11-14 00:00:00-05:00</td>\n",
       "      <td>0.950000</td>\n",
       "      <td>XOM</td>\n",
       "    </tr>\n",
       "  </tbody>\n",
       "</table>\n",
       "<p>12557 rows × 3 columns</p>\n",
       "</div>"
      ],
      "text/plain": [
       "                           Date  Dividends Ticker\n",
       "0     1987-05-11 00:00:00-04:00   0.000536   AAPL\n",
       "1     1987-08-10 00:00:00-04:00   0.000536   AAPL\n",
       "2     1987-11-17 00:00:00-05:00   0.000714   AAPL\n",
       "3     1988-02-12 00:00:00-05:00   0.000714   AAPL\n",
       "4     1988-05-16 00:00:00-04:00   0.000714   AAPL\n",
       "...                         ...        ...    ...\n",
       "12552 2022-11-14 00:00:00-05:00   0.910000    XOM\n",
       "12553 2023-02-13 00:00:00-05:00   0.910000    XOM\n",
       "12554 2023-05-15 00:00:00-04:00   0.910000    XOM\n",
       "12555 2023-08-15 00:00:00-04:00   0.910000    XOM\n",
       "12556 2023-11-14 00:00:00-05:00   0.950000    XOM\n",
       "\n",
       "[12557 rows x 3 columns]"
      ]
     },
     "execution_count": 25,
     "metadata": {},
     "output_type": "execute_result"
    }
   ],
   "source": [
    "df_dividend_final"
   ]
  },
  {
   "cell_type": "code",
   "execution_count": 26,
   "metadata": {
    "id": "lXyrKZQ36OHD"
   },
   "outputs": [],
   "source": [
    "df_dividend_final['Date'] = pd.to_datetime( df_dividend_final['Date'], errors='coerce',utc=True)"
   ]
  },
  {
   "cell_type": "code",
   "execution_count": 27,
   "metadata": {
    "id": "yd4Ysc6q6gCZ"
   },
   "outputs": [],
   "source": [
    "df_dividend_final['Date'] = df_dividend_final['Date'].dt.date"
   ]
  },
  {
   "cell_type": "code",
   "execution_count": 28,
   "metadata": {
    "colab": {
     "base_uri": "https://localhost:8080/",
     "height": 424
    },
    "id": "IxfBBgWB_TUA",
    "outputId": "17acb2fd-a125-4164-e50b-9b55d34c40b7"
   },
   "outputs": [
    {
     "data": {
      "text/html": [
       "<div>\n",
       "<style scoped>\n",
       "    .dataframe tbody tr th:only-of-type {\n",
       "        vertical-align: middle;\n",
       "    }\n",
       "\n",
       "    .dataframe tbody tr th {\n",
       "        vertical-align: top;\n",
       "    }\n",
       "\n",
       "    .dataframe thead th {\n",
       "        text-align: right;\n",
       "    }\n",
       "</style>\n",
       "<table border=\"1\" class=\"dataframe\">\n",
       "  <thead>\n",
       "    <tr style=\"text-align: right;\">\n",
       "      <th></th>\n",
       "      <th>Date</th>\n",
       "      <th>Dividends</th>\n",
       "      <th>Ticker</th>\n",
       "    </tr>\n",
       "  </thead>\n",
       "  <tbody>\n",
       "    <tr>\n",
       "      <th>0</th>\n",
       "      <td>1987-05-11</td>\n",
       "      <td>0.000536</td>\n",
       "      <td>AAPL</td>\n",
       "    </tr>\n",
       "    <tr>\n",
       "      <th>1</th>\n",
       "      <td>1987-08-10</td>\n",
       "      <td>0.000536</td>\n",
       "      <td>AAPL</td>\n",
       "    </tr>\n",
       "    <tr>\n",
       "      <th>2</th>\n",
       "      <td>1987-11-17</td>\n",
       "      <td>0.000714</td>\n",
       "      <td>AAPL</td>\n",
       "    </tr>\n",
       "    <tr>\n",
       "      <th>3</th>\n",
       "      <td>1988-02-12</td>\n",
       "      <td>0.000714</td>\n",
       "      <td>AAPL</td>\n",
       "    </tr>\n",
       "    <tr>\n",
       "      <th>4</th>\n",
       "      <td>1988-05-16</td>\n",
       "      <td>0.000714</td>\n",
       "      <td>AAPL</td>\n",
       "    </tr>\n",
       "    <tr>\n",
       "      <th>...</th>\n",
       "      <td>...</td>\n",
       "      <td>...</td>\n",
       "      <td>...</td>\n",
       "    </tr>\n",
       "    <tr>\n",
       "      <th>12552</th>\n",
       "      <td>2022-11-14</td>\n",
       "      <td>0.910000</td>\n",
       "      <td>XOM</td>\n",
       "    </tr>\n",
       "    <tr>\n",
       "      <th>12553</th>\n",
       "      <td>2023-02-13</td>\n",
       "      <td>0.910000</td>\n",
       "      <td>XOM</td>\n",
       "    </tr>\n",
       "    <tr>\n",
       "      <th>12554</th>\n",
       "      <td>2023-05-15</td>\n",
       "      <td>0.910000</td>\n",
       "      <td>XOM</td>\n",
       "    </tr>\n",
       "    <tr>\n",
       "      <th>12555</th>\n",
       "      <td>2023-08-15</td>\n",
       "      <td>0.910000</td>\n",
       "      <td>XOM</td>\n",
       "    </tr>\n",
       "    <tr>\n",
       "      <th>12556</th>\n",
       "      <td>2023-11-14</td>\n",
       "      <td>0.950000</td>\n",
       "      <td>XOM</td>\n",
       "    </tr>\n",
       "  </tbody>\n",
       "</table>\n",
       "<p>12557 rows × 3 columns</p>\n",
       "</div>"
      ],
      "text/plain": [
       "             Date  Dividends Ticker\n",
       "0      1987-05-11   0.000536   AAPL\n",
       "1      1987-08-10   0.000536   AAPL\n",
       "2      1987-11-17   0.000714   AAPL\n",
       "3      1988-02-12   0.000714   AAPL\n",
       "4      1988-05-16   0.000714   AAPL\n",
       "...           ...        ...    ...\n",
       "12552  2022-11-14   0.910000    XOM\n",
       "12553  2023-02-13   0.910000    XOM\n",
       "12554  2023-05-15   0.910000    XOM\n",
       "12555  2023-08-15   0.910000    XOM\n",
       "12556  2023-11-14   0.950000    XOM\n",
       "\n",
       "[12557 rows x 3 columns]"
      ]
     },
     "execution_count": 28,
     "metadata": {},
     "output_type": "execute_result"
    }
   ],
   "source": [
    "df_dividend_final"
   ]
  },
  {
   "cell_type": "code",
   "execution_count": 29,
   "metadata": {},
   "outputs": [
    {
     "data": {
      "text/html": [
       "<div>\n",
       "<style scoped>\n",
       "    .dataframe tbody tr th:only-of-type {\n",
       "        vertical-align: middle;\n",
       "    }\n",
       "\n",
       "    .dataframe tbody tr th {\n",
       "        vertical-align: top;\n",
       "    }\n",
       "\n",
       "    .dataframe thead th {\n",
       "        text-align: right;\n",
       "    }\n",
       "</style>\n",
       "<table border=\"1\" class=\"dataframe\">\n",
       "  <thead>\n",
       "    <tr style=\"text-align: right;\">\n",
       "      <th></th>\n",
       "      <th>Date</th>\n",
       "      <th>Dividends</th>\n",
       "      <th>Ticker</th>\n",
       "      <th>date_insert</th>\n",
       "      <th>time_insert</th>\n",
       "    </tr>\n",
       "  </thead>\n",
       "  <tbody>\n",
       "    <tr>\n",
       "      <th>0</th>\n",
       "      <td>1987-05-11</td>\n",
       "      <td>0.000536</td>\n",
       "      <td>AAPL</td>\n",
       "      <td>2024-01-02</td>\n",
       "      <td>18:15:06</td>\n",
       "    </tr>\n",
       "    <tr>\n",
       "      <th>1</th>\n",
       "      <td>1987-08-10</td>\n",
       "      <td>0.000536</td>\n",
       "      <td>AAPL</td>\n",
       "      <td>2024-01-02</td>\n",
       "      <td>18:15:06</td>\n",
       "    </tr>\n",
       "    <tr>\n",
       "      <th>2</th>\n",
       "      <td>1987-11-17</td>\n",
       "      <td>0.000714</td>\n",
       "      <td>AAPL</td>\n",
       "      <td>2024-01-02</td>\n",
       "      <td>18:15:06</td>\n",
       "    </tr>\n",
       "    <tr>\n",
       "      <th>3</th>\n",
       "      <td>1988-02-12</td>\n",
       "      <td>0.000714</td>\n",
       "      <td>AAPL</td>\n",
       "      <td>2024-01-02</td>\n",
       "      <td>18:15:06</td>\n",
       "    </tr>\n",
       "    <tr>\n",
       "      <th>4</th>\n",
       "      <td>1988-05-16</td>\n",
       "      <td>0.000714</td>\n",
       "      <td>AAPL</td>\n",
       "      <td>2024-01-02</td>\n",
       "      <td>18:15:06</td>\n",
       "    </tr>\n",
       "    <tr>\n",
       "      <th>...</th>\n",
       "      <td>...</td>\n",
       "      <td>...</td>\n",
       "      <td>...</td>\n",
       "      <td>...</td>\n",
       "      <td>...</td>\n",
       "    </tr>\n",
       "    <tr>\n",
       "      <th>12552</th>\n",
       "      <td>2022-11-14</td>\n",
       "      <td>0.910000</td>\n",
       "      <td>XOM</td>\n",
       "      <td>2024-01-02</td>\n",
       "      <td>18:15:06</td>\n",
       "    </tr>\n",
       "    <tr>\n",
       "      <th>12553</th>\n",
       "      <td>2023-02-13</td>\n",
       "      <td>0.910000</td>\n",
       "      <td>XOM</td>\n",
       "      <td>2024-01-02</td>\n",
       "      <td>18:15:06</td>\n",
       "    </tr>\n",
       "    <tr>\n",
       "      <th>12554</th>\n",
       "      <td>2023-05-15</td>\n",
       "      <td>0.910000</td>\n",
       "      <td>XOM</td>\n",
       "      <td>2024-01-02</td>\n",
       "      <td>18:15:06</td>\n",
       "    </tr>\n",
       "    <tr>\n",
       "      <th>12555</th>\n",
       "      <td>2023-08-15</td>\n",
       "      <td>0.910000</td>\n",
       "      <td>XOM</td>\n",
       "      <td>2024-01-02</td>\n",
       "      <td>18:15:06</td>\n",
       "    </tr>\n",
       "    <tr>\n",
       "      <th>12556</th>\n",
       "      <td>2023-11-14</td>\n",
       "      <td>0.950000</td>\n",
       "      <td>XOM</td>\n",
       "      <td>2024-01-02</td>\n",
       "      <td>18:15:06</td>\n",
       "    </tr>\n",
       "  </tbody>\n",
       "</table>\n",
       "<p>12557 rows × 5 columns</p>\n",
       "</div>"
      ],
      "text/plain": [
       "             Date  Dividends Ticker date_insert time_insert\n",
       "0      1987-05-11   0.000536   AAPL  2024-01-02    18:15:06\n",
       "1      1987-08-10   0.000536   AAPL  2024-01-02    18:15:06\n",
       "2      1987-11-17   0.000714   AAPL  2024-01-02    18:15:06\n",
       "3      1988-02-12   0.000714   AAPL  2024-01-02    18:15:06\n",
       "4      1988-05-16   0.000714   AAPL  2024-01-02    18:15:06\n",
       "...           ...        ...    ...         ...         ...\n",
       "12552  2022-11-14   0.910000    XOM  2024-01-02    18:15:06\n",
       "12553  2023-02-13   0.910000    XOM  2024-01-02    18:15:06\n",
       "12554  2023-05-15   0.910000    XOM  2024-01-02    18:15:06\n",
       "12555  2023-08-15   0.910000    XOM  2024-01-02    18:15:06\n",
       "12556  2023-11-14   0.950000    XOM  2024-01-02    18:15:06\n",
       "\n",
       "[12557 rows x 5 columns]"
      ]
     },
     "execution_count": 29,
     "metadata": {},
     "output_type": "execute_result"
    }
   ],
   "source": [
    "df_dividend_final[\"date_insert\"] = datetime.datetime.now().strftime(\"%Y-%m-%d\")\n",
    "df_dividend_final[\"time_insert\"] = datetime.datetime.now().strftime(\"%H:%M:%S\")\n",
    "df_dividend_final"
   ]
  },
  {
   "cell_type": "code",
   "execution_count": 30,
   "metadata": {},
   "outputs": [],
   "source": [
    "df_dividend_final.to_sql('tb_dividends', schema='dbo', con = engine, if_exists='append',index=False)"
   ]
  },
  {
   "cell_type": "code",
   "execution_count": 31,
   "metadata": {},
   "outputs": [
    {
     "data": {
      "text/plain": [
       "58892"
      ]
     },
     "execution_count": 31,
     "metadata": {},
     "output_type": "execute_result"
    }
   ],
   "source": [
    "result = engine.execute('SELECT COUNT(*) FROM [dbo].[tb_dividends]')\n",
    "result.fetchall()[0][0] "
   ]
  },
  {
   "cell_type": "code",
   "execution_count": 35,
   "metadata": {},
   "outputs": [
    {
     "data": {
      "text/plain": [
       "12557"
      ]
     },
     "execution_count": 35,
     "metadata": {},
     "output_type": "execute_result"
    }
   ],
   "source": [
    "result = engine.execute('SELECT count(*) FROM [DividendPolicyResearch].[dbo].[tb_dividends] where year(date_insert) = 2024')\n",
    "result.fetchall()[0][0] "
   ]
  }
 ],
 "metadata": {
  "colab": {
   "provenance": []
  },
  "kernelspec": {
   "display_name": "Python 3",
   "language": "python",
   "name": "python3"
  },
  "language_info": {
   "codemirror_mode": {
    "name": "ipython",
    "version": 3
   },
   "file_extension": ".py",
   "mimetype": "text/x-python",
   "name": "python",
   "nbconvert_exporter": "python",
   "pygments_lexer": "ipython3",
   "version": "3.7.8"
  }
 },
 "nbformat": 4,
 "nbformat_minor": 1
}
