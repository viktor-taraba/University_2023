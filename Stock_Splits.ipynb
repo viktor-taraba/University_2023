{
  "nbformat": 4,
  "nbformat_minor": 0,
  "metadata": {
    "colab": {
      "provenance": []
    },
    "kernelspec": {
      "name": "python3",
      "display_name": "Python 3"
    },
    "language_info": {
      "name": "python"
    }
  },
  "cells": [
    {
      "cell_type": "code",
      "execution_count": 1,
      "metadata": {
        "id": "PIpTEJ1PPQ8J"
      },
      "outputs": [],
      "source": [
        "import yfinance as yf"
      ]
    },
    {
      "cell_type": "code",
      "source": [
        "apple = yf.Ticker(\"AAPL\")\n",
        "splits = apple.splits"
      ],
      "metadata": {
        "id": "9j2ZabmOPbxI"
      },
      "execution_count": 3,
      "outputs": []
    },
    {
      "cell_type": "code",
      "source": [
        "splits"
      ],
      "metadata": {
        "colab": {
          "base_uri": "https://localhost:8080/"
        },
        "id": "JOncxL5HPwDa",
        "outputId": "00e8d5aa-7da6-447f-c122-d9f4d4a71524"
      },
      "execution_count": 4,
      "outputs": [
        {
          "output_type": "execute_result",
          "data": {
            "text/plain": [
              "Date\n",
              "1987-06-16 00:00:00-04:00    2.0\n",
              "2000-06-21 00:00:00-04:00    2.0\n",
              "2005-02-28 00:00:00-05:00    2.0\n",
              "2014-06-09 00:00:00-04:00    7.0\n",
              "2020-08-31 00:00:00-04:00    4.0\n",
              "Name: Stock Splits, dtype: float64"
            ]
          },
          "metadata": {},
          "execution_count": 4
        }
      ]
    },
    {
      "cell_type": "code",
      "source": [
        "apple.dividends"
      ],
      "metadata": {
        "colab": {
          "base_uri": "https://localhost:8080/"
        },
        "id": "ct552-DTPpkF",
        "outputId": "792ac4ca-fcd6-4e45-d48c-9c2afd32472a"
      },
      "execution_count": 5,
      "outputs": [
        {
          "output_type": "execute_result",
          "data": {
            "text/plain": [
              "Date\n",
              "1987-05-11 00:00:00-04:00    0.000536\n",
              "1987-08-10 00:00:00-04:00    0.000536\n",
              "1987-11-17 00:00:00-05:00    0.000714\n",
              "1988-02-12 00:00:00-05:00    0.000714\n",
              "1988-05-16 00:00:00-04:00    0.000714\n",
              "                               ...   \n",
              "2022-11-04 00:00:00-04:00    0.230000\n",
              "2023-02-10 00:00:00-05:00    0.230000\n",
              "2023-05-12 00:00:00-04:00    0.240000\n",
              "2023-08-11 00:00:00-04:00    0.240000\n",
              "2023-11-10 00:00:00-05:00    0.240000\n",
              "Name: Dividends, Length: 81, dtype: float64"
            ]
          },
          "metadata": {},
          "execution_count": 5
        }
      ]
    },
    {
      "cell_type": "code",
      "source": [
        "GOOG = yf.Ticker(\"GOOG\")\n",
        "splits = GOOG.splits\n",
        "splits"
      ],
      "metadata": {
        "colab": {
          "base_uri": "https://localhost:8080/"
        },
        "id": "ProzljbrPjCT",
        "outputId": "98539588-79e3-47fa-abaa-61fee1bf77d8"
      },
      "execution_count": 7,
      "outputs": [
        {
          "output_type": "execute_result",
          "data": {
            "text/plain": [
              "Date\n",
              "2014-03-27 00:00:00-04:00     2.002000\n",
              "2015-04-27 00:00:00-04:00     1.002746\n",
              "2022-07-18 00:00:00-04:00    20.000000\n",
              "Name: Stock Splits, dtype: float64"
            ]
          },
          "metadata": {},
          "execution_count": 7
        }
      ]
    },
    {
      "cell_type": "code",
      "source": [
        "GOOGL = yf.Ticker(\"GOOGL\")\n",
        "splits = GOOGL.splits\n",
        "splits"
      ],
      "metadata": {
        "colab": {
          "base_uri": "https://localhost:8080/"
        },
        "id": "pzvWi03JP3bQ",
        "outputId": "4ae7e34d-282d-46a4-cc62-63412be7def6"
      },
      "execution_count": 8,
      "outputs": [
        {
          "output_type": "execute_result",
          "data": {
            "text/plain": [
              "Date\n",
              "2014-04-03 00:00:00-04:00     1.998\n",
              "2022-07-18 00:00:00-04:00    20.000\n",
              "Name: Stock Splits, dtype: float64"
            ]
          },
          "metadata": {},
          "execution_count": 8
        }
      ]
    }
  ]
}