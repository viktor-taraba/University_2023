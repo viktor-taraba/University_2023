{
 "cells": [
  {
   "cell_type": "code",
   "execution_count": 1,
   "id": "instrumental-kansas",
   "metadata": {},
   "outputs": [],
   "source": [
    "import yfinance as yf\n",
    "import pandas as pd"
   ]
  },
  {
   "cell_type": "code",
   "execution_count": 26,
   "id": "excess-protein",
   "metadata": {
    "scrolled": false
   },
   "outputs": [
    {
     "data": {
      "text/html": [
       "<div>\n",
       "<style scoped>\n",
       "    .dataframe tbody tr th:only-of-type {\n",
       "        vertical-align: middle;\n",
       "    }\n",
       "\n",
       "    .dataframe tbody tr th {\n",
       "        vertical-align: top;\n",
       "    }\n",
       "\n",
       "    .dataframe thead th {\n",
       "        text-align: right;\n",
       "    }\n",
       "</style>\n",
       "<table border=\"1\" class=\"dataframe\">\n",
       "  <thead>\n",
       "    <tr style=\"text-align: right;\">\n",
       "      <th></th>\n",
       "      <th>2023-09-30 00:00:00</th>\n",
       "      <th>2022-09-30 00:00:00</th>\n",
       "      <th>2021-09-30 00:00:00</th>\n",
       "      <th>2020-09-30 00:00:00</th>\n",
       "      <th>line</th>\n",
       "    </tr>\n",
       "  </thead>\n",
       "  <tbody>\n",
       "    <tr>\n",
       "      <th>Tax Effect Of Unusual Items</th>\n",
       "      <td>0.0</td>\n",
       "      <td>0.0</td>\n",
       "      <td>0.0</td>\n",
       "      <td>0.0</td>\n",
       "      <td>Tax Effect Of Unusual Items</td>\n",
       "    </tr>\n",
       "    <tr>\n",
       "      <th>Tax Rate For Calcs</th>\n",
       "      <td>0.147</td>\n",
       "      <td>0.162</td>\n",
       "      <td>0.133</td>\n",
       "      <td>0.144</td>\n",
       "      <td>Tax Rate For Calcs</td>\n",
       "    </tr>\n",
       "    <tr>\n",
       "      <th>Normalized EBITDA</th>\n",
       "      <td>129188000000.0</td>\n",
       "      <td>133138000000.0</td>\n",
       "      <td>123136000000.0</td>\n",
       "      <td>81020000000.0</td>\n",
       "      <td>Normalized EBITDA</td>\n",
       "    </tr>\n",
       "    <tr>\n",
       "      <th>Net Income From Continuing Operation Net Minority Interest</th>\n",
       "      <td>96995000000.0</td>\n",
       "      <td>99803000000.0</td>\n",
       "      <td>94680000000.0</td>\n",
       "      <td>57411000000.0</td>\n",
       "      <td>Net Income From Continuing Operation Net Minor...</td>\n",
       "    </tr>\n",
       "    <tr>\n",
       "      <th>Reconciled Depreciation</th>\n",
       "      <td>11519000000.0</td>\n",
       "      <td>11104000000.0</td>\n",
       "      <td>11284000000.0</td>\n",
       "      <td>11056000000.0</td>\n",
       "      <td>Reconciled Depreciation</td>\n",
       "    </tr>\n",
       "  </tbody>\n",
       "</table>\n",
       "</div>"
      ],
      "text/plain": [
       "                                                   2023-09-30 00:00:00  \\\n",
       "Tax Effect Of Unusual Items                                        0.0   \n",
       "Tax Rate For Calcs                                               0.147   \n",
       "Normalized EBITDA                                       129188000000.0   \n",
       "Net Income From Continuing Operation Net Minori...       96995000000.0   \n",
       "Reconciled Depreciation                                  11519000000.0   \n",
       "\n",
       "                                                   2022-09-30 00:00:00  \\\n",
       "Tax Effect Of Unusual Items                                        0.0   \n",
       "Tax Rate For Calcs                                               0.162   \n",
       "Normalized EBITDA                                       133138000000.0   \n",
       "Net Income From Continuing Operation Net Minori...       99803000000.0   \n",
       "Reconciled Depreciation                                  11104000000.0   \n",
       "\n",
       "                                                   2021-09-30 00:00:00  \\\n",
       "Tax Effect Of Unusual Items                                        0.0   \n",
       "Tax Rate For Calcs                                               0.133   \n",
       "Normalized EBITDA                                       123136000000.0   \n",
       "Net Income From Continuing Operation Net Minori...       94680000000.0   \n",
       "Reconciled Depreciation                                  11284000000.0   \n",
       "\n",
       "                                                   2020-09-30 00:00:00  \\\n",
       "Tax Effect Of Unusual Items                                        0.0   \n",
       "Tax Rate For Calcs                                               0.144   \n",
       "Normalized EBITDA                                        81020000000.0   \n",
       "Net Income From Continuing Operation Net Minori...       57411000000.0   \n",
       "Reconciled Depreciation                                  11056000000.0   \n",
       "\n",
       "                                                                                                 line  \n",
       "Tax Effect Of Unusual Items                                               Tax Effect Of Unusual Items  \n",
       "Tax Rate For Calcs                                                                 Tax Rate For Calcs  \n",
       "Normalized EBITDA                                                                   Normalized EBITDA  \n",
       "Net Income From Continuing Operation Net Minori...  Net Income From Continuing Operation Net Minor...  \n",
       "Reconciled Depreciation                                                       Reconciled Depreciation  "
      ]
     },
     "execution_count": 26,
     "metadata": {},
     "output_type": "execute_result"
    }
   ],
   "source": [
    "request = yf.Ticker(\"AAPL\")\n",
    "df = request.financials\n",
    "df[\"line\"] = df.index\n",
    "df.head()"
   ]
  },
  {
   "cell_type": "code",
   "execution_count": 27,
   "id": "religious-electricity",
   "metadata": {},
   "outputs": [
    {
     "data": {
      "text/plain": [
       "Index(['2023-09-30 00:00:00', '2022-09-30 00:00:00', '2021-09-30 00:00:00',\n",
       "       '2020-09-30 00:00:00', 'line'],\n",
       "      dtype='object')"
      ]
     },
     "execution_count": 27,
     "metadata": {},
     "output_type": "execute_result"
    }
   ],
   "source": [
    "df.columns = df.columns.astype(str)\n",
    "df.columns"
   ]
  },
  {
   "cell_type": "code",
   "execution_count": 28,
   "id": "elementary-legend",
   "metadata": {},
   "outputs": [
    {
     "data": {
      "text/plain": [
       "Index(['2023-09-30 ', '2022-09-30 ', '2021-09-30 ', '2020-09-30 ', 'line'], dtype='object')"
      ]
     },
     "execution_count": 28,
     "metadata": {},
     "output_type": "execute_result"
    }
   ],
   "source": [
    "df.columns = df.columns.str.replace(r\"00:00:00\", \"\", regex=False)\n",
    "df.columns"
   ]
  },
  {
   "cell_type": "code",
   "execution_count": 29,
   "id": "expensive-tonight",
   "metadata": {},
   "outputs": [
    {
     "data": {
      "text/html": [
       "<div>\n",
       "<style scoped>\n",
       "    .dataframe tbody tr th:only-of-type {\n",
       "        vertical-align: middle;\n",
       "    }\n",
       "\n",
       "    .dataframe tbody tr th {\n",
       "        vertical-align: top;\n",
       "    }\n",
       "\n",
       "    .dataframe thead th {\n",
       "        text-align: right;\n",
       "    }\n",
       "</style>\n",
       "<table border=\"1\" class=\"dataframe\">\n",
       "  <thead>\n",
       "    <tr style=\"text-align: right;\">\n",
       "      <th></th>\n",
       "      <th>2023-09-30</th>\n",
       "      <th>2022-09-30</th>\n",
       "      <th>2021-09-30</th>\n",
       "      <th>2020-09-30</th>\n",
       "      <th>line</th>\n",
       "    </tr>\n",
       "  </thead>\n",
       "  <tbody>\n",
       "    <tr>\n",
       "      <th>Tax Effect Of Unusual Items</th>\n",
       "      <td>0.0</td>\n",
       "      <td>0.0</td>\n",
       "      <td>0.0</td>\n",
       "      <td>0.0</td>\n",
       "      <td>Tax Effect Of Unusual Items</td>\n",
       "    </tr>\n",
       "    <tr>\n",
       "      <th>Tax Rate For Calcs</th>\n",
       "      <td>0.147</td>\n",
       "      <td>0.162</td>\n",
       "      <td>0.133</td>\n",
       "      <td>0.144</td>\n",
       "      <td>Tax Rate For Calcs</td>\n",
       "    </tr>\n",
       "    <tr>\n",
       "      <th>Normalized EBITDA</th>\n",
       "      <td>129188000000.0</td>\n",
       "      <td>133138000000.0</td>\n",
       "      <td>123136000000.0</td>\n",
       "      <td>81020000000.0</td>\n",
       "      <td>Normalized EBITDA</td>\n",
       "    </tr>\n",
       "    <tr>\n",
       "      <th>Net Income From Continuing Operation Net Minority Interest</th>\n",
       "      <td>96995000000.0</td>\n",
       "      <td>99803000000.0</td>\n",
       "      <td>94680000000.0</td>\n",
       "      <td>57411000000.0</td>\n",
       "      <td>Net Income From Continuing Operation Net Minor...</td>\n",
       "    </tr>\n",
       "    <tr>\n",
       "      <th>Reconciled Depreciation</th>\n",
       "      <td>11519000000.0</td>\n",
       "      <td>11104000000.0</td>\n",
       "      <td>11284000000.0</td>\n",
       "      <td>11056000000.0</td>\n",
       "      <td>Reconciled Depreciation</td>\n",
       "    </tr>\n",
       "  </tbody>\n",
       "</table>\n",
       "</div>"
      ],
      "text/plain": [
       "                                                       2023-09-30   \\\n",
       "Tax Effect Of Unusual Items                                    0.0   \n",
       "Tax Rate For Calcs                                           0.147   \n",
       "Normalized EBITDA                                   129188000000.0   \n",
       "Net Income From Continuing Operation Net Minori...   96995000000.0   \n",
       "Reconciled Depreciation                              11519000000.0   \n",
       "\n",
       "                                                       2022-09-30   \\\n",
       "Tax Effect Of Unusual Items                                    0.0   \n",
       "Tax Rate For Calcs                                           0.162   \n",
       "Normalized EBITDA                                   133138000000.0   \n",
       "Net Income From Continuing Operation Net Minori...   99803000000.0   \n",
       "Reconciled Depreciation                              11104000000.0   \n",
       "\n",
       "                                                       2021-09-30   \\\n",
       "Tax Effect Of Unusual Items                                    0.0   \n",
       "Tax Rate For Calcs                                           0.133   \n",
       "Normalized EBITDA                                   123136000000.0   \n",
       "Net Income From Continuing Operation Net Minori...   94680000000.0   \n",
       "Reconciled Depreciation                              11284000000.0   \n",
       "\n",
       "                                                      2020-09-30   \\\n",
       "Tax Effect Of Unusual Items                                   0.0   \n",
       "Tax Rate For Calcs                                          0.144   \n",
       "Normalized EBITDA                                   81020000000.0   \n",
       "Net Income From Continuing Operation Net Minori...  57411000000.0   \n",
       "Reconciled Depreciation                             11056000000.0   \n",
       "\n",
       "                                                                                                 line  \n",
       "Tax Effect Of Unusual Items                                               Tax Effect Of Unusual Items  \n",
       "Tax Rate For Calcs                                                                 Tax Rate For Calcs  \n",
       "Normalized EBITDA                                                                   Normalized EBITDA  \n",
       "Net Income From Continuing Operation Net Minori...  Net Income From Continuing Operation Net Minor...  \n",
       "Reconciled Depreciation                                                       Reconciled Depreciation  "
      ]
     },
     "execution_count": 29,
     "metadata": {},
     "output_type": "execute_result"
    }
   ],
   "source": [
    "df.head()"
   ]
  },
  {
   "cell_type": "code",
   "execution_count": 30,
   "id": "loving-protection",
   "metadata": {},
   "outputs": [
    {
     "data": {
      "text/html": [
       "<div>\n",
       "<style scoped>\n",
       "    .dataframe tbody tr th:only-of-type {\n",
       "        vertical-align: middle;\n",
       "    }\n",
       "\n",
       "    .dataframe tbody tr th {\n",
       "        vertical-align: top;\n",
       "    }\n",
       "\n",
       "    .dataframe thead th {\n",
       "        text-align: right;\n",
       "    }\n",
       "</style>\n",
       "<table border=\"1\" class=\"dataframe\">\n",
       "  <thead>\n",
       "    <tr style=\"text-align: right;\">\n",
       "      <th></th>\n",
       "      <th>2023-09-30</th>\n",
       "      <th>2022-09-30</th>\n",
       "      <th>2021-09-30</th>\n",
       "      <th>2020-09-30</th>\n",
       "      <th>line</th>\n",
       "    </tr>\n",
       "  </thead>\n",
       "  <tbody>\n",
       "    <tr>\n",
       "      <th>Diluted EPS</th>\n",
       "      <td>6.13</td>\n",
       "      <td>6.11</td>\n",
       "      <td>5.61</td>\n",
       "      <td>3.28</td>\n",
       "      <td>Diluted EPS</td>\n",
       "    </tr>\n",
       "    <tr>\n",
       "      <th>Basic EPS</th>\n",
       "      <td>6.16</td>\n",
       "      <td>6.15</td>\n",
       "      <td>5.67</td>\n",
       "      <td>3.31</td>\n",
       "      <td>Basic EPS</td>\n",
       "    </tr>\n",
       "  </tbody>\n",
       "</table>\n",
       "</div>"
      ],
      "text/plain": [
       "            2023-09-30  2022-09-30  2021-09-30  2020-09-30          line\n",
       "Diluted EPS        6.13        6.11        5.61        3.28  Diluted EPS\n",
       "Basic EPS          6.16        6.15        5.67        3.31    Basic EPS"
      ]
     },
     "execution_count": 30,
     "metadata": {},
     "output_type": "execute_result"
    }
   ],
   "source": [
    "df[(df['line']=='Basic EPS') | (df['line']=='Diluted EPS')]"
   ]
  }
 ],
 "metadata": {
  "kernelspec": {
   "display_name": "Python 3",
   "language": "python",
   "name": "python3"
  },
  "language_info": {
   "codemirror_mode": {
    "name": "ipython",
    "version": 3
   },
   "file_extension": ".py",
   "mimetype": "text/x-python",
   "name": "python",
   "nbconvert_exporter": "python",
   "pygments_lexer": "ipython3",
   "version": "3.7.8"
  }
 },
 "nbformat": 4,
 "nbformat_minor": 5
}
