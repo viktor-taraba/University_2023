{
 "cells": [
  {
   "cell_type": "markdown",
   "id": "attached-shopper",
   "metadata": {},
   "source": [
    "# CIK\n",
    "\n",
    "EDGAR assigns to filers a unique numerical identifier, known as a Central Index Key (CIK), when they sign up to make filings to the SEC. CIK numbers remain unique to the filer; they are not recycled."
   ]
  },
  {
   "cell_type": "markdown",
   "id": "defensive-investor",
   "metadata": {},
   "source": [
    "Source: https://www.sec.gov/os/accessing-edgar-data "
   ]
  },
  {
   "cell_type": "markdown",
   "id": "sonic-appointment",
   "metadata": {},
   "source": [
    "# CIK, ticker, and exchange associations\n",
    "\n",
    "Source 1: https://www.sec.gov/os/accessing-edgar-data\n",
    "\n",
    "Source 2 (json): https://www.sec.gov/files/company_tickers.json"
   ]
  },
  {
   "cell_type": "code",
   "execution_count": 7,
   "id": "assumed-leader",
   "metadata": {},
   "outputs": [
    {
     "data": {
      "text/html": [
       "<div>\n",
       "<style scoped>\n",
       "    .dataframe tbody tr th:only-of-type {\n",
       "        vertical-align: middle;\n",
       "    }\n",
       "\n",
       "    .dataframe tbody tr th {\n",
       "        vertical-align: top;\n",
       "    }\n",
       "\n",
       "    .dataframe thead th {\n",
       "        text-align: right;\n",
       "    }\n",
       "</style>\n",
       "<table border=\"1\" class=\"dataframe\">\n",
       "  <thead>\n",
       "    <tr style=\"text-align: right;\">\n",
       "      <th></th>\n",
       "      <th>0</th>\n",
       "      <th>1</th>\n",
       "      <th>2</th>\n",
       "      <th>3</th>\n",
       "      <th>4</th>\n",
       "      <th>5</th>\n",
       "      <th>6</th>\n",
       "      <th>7</th>\n",
       "      <th>8</th>\n",
       "      <th>9</th>\n",
       "      <th>...</th>\n",
       "      <th>10655</th>\n",
       "      <th>10656</th>\n",
       "      <th>10657</th>\n",
       "      <th>10658</th>\n",
       "      <th>10659</th>\n",
       "      <th>10660</th>\n",
       "      <th>10661</th>\n",
       "      <th>10662</th>\n",
       "      <th>10663</th>\n",
       "      <th>10664</th>\n",
       "    </tr>\n",
       "  </thead>\n",
       "  <tbody>\n",
       "    <tr>\n",
       "      <th>cik_str</th>\n",
       "      <td>320193</td>\n",
       "      <td>789019</td>\n",
       "      <td>1652044</td>\n",
       "      <td>1018724</td>\n",
       "      <td>1045810</td>\n",
       "      <td>1326801</td>\n",
       "      <td>1318605</td>\n",
       "      <td>1067983</td>\n",
       "      <td>1804583</td>\n",
       "      <td>1046179</td>\n",
       "      <td>...</td>\n",
       "      <td>1496254</td>\n",
       "      <td>1496254</td>\n",
       "      <td>1947559</td>\n",
       "      <td>1933644</td>\n",
       "      <td>1846702</td>\n",
       "      <td>1824204</td>\n",
       "      <td>1852039</td>\n",
       "      <td>748954</td>\n",
       "      <td>1299939</td>\n",
       "      <td>1923734</td>\n",
       "    </tr>\n",
       "    <tr>\n",
       "      <th>ticker</th>\n",
       "      <td>AAPL</td>\n",
       "      <td>MSFT</td>\n",
       "      <td>GOOGL</td>\n",
       "      <td>AMZN</td>\n",
       "      <td>NVDA</td>\n",
       "      <td>META</td>\n",
       "      <td>TSLA</td>\n",
       "      <td>BRK-B</td>\n",
       "      <td>RAASY</td>\n",
       "      <td>TSM</td>\n",
       "      <td>...</td>\n",
       "      <td>LTAFX</td>\n",
       "      <td>LTCFX</td>\n",
       "      <td>ANZGF</td>\n",
       "      <td>MDLVY</td>\n",
       "      <td>FIGP</td>\n",
       "      <td>PVOZ</td>\n",
       "      <td>FILG</td>\n",
       "      <td>ATLFF</td>\n",
       "      <td>CADE-PA</td>\n",
       "      <td>AFTWS</td>\n",
       "    </tr>\n",
       "    <tr>\n",
       "      <th>title</th>\n",
       "      <td>Apple Inc.</td>\n",
       "      <td>MICROSOFT CORP</td>\n",
       "      <td>Alphabet Inc.</td>\n",
       "      <td>AMAZON COM INC</td>\n",
       "      <td>NVIDIA CORP</td>\n",
       "      <td>Meta Platforms, Inc.</td>\n",
       "      <td>Tesla, Inc.</td>\n",
       "      <td>BERKSHIRE HATHAWAY INC</td>\n",
       "      <td>Cloopen Group Holding Ltd</td>\n",
       "      <td>TAIWAN SEMICONDUCTOR MANUFACTURING CO LTD</td>\n",
       "      <td>...</td>\n",
       "      <td>Alternative Strategies Income Fund</td>\n",
       "      <td>Alternative Strategies Income Fund</td>\n",
       "      <td>ANZ GROUP HOLDINGS LIMITED/ADR</td>\n",
       "      <td>Medlive Technology Co., Ltd./ADR</td>\n",
       "      <td>Forge Group, Inc.</td>\n",
       "      <td>Park View OZ REIT Inc</td>\n",
       "      <td>Grayscale Filecoin Trust (FIL)</td>\n",
       "      <td>ATLAS COPCO AB</td>\n",
       "      <td>Cadence Bank</td>\n",
       "      <td>Ark7 Properties Plus LLC</td>\n",
       "    </tr>\n",
       "  </tbody>\n",
       "</table>\n",
       "<p>3 rows × 10665 columns</p>\n",
       "</div>"
      ],
      "text/plain": [
       "              0               1              2               3      \\\n",
       "cik_str      320193          789019        1652044         1018724   \n",
       "ticker         AAPL            MSFT          GOOGL            AMZN   \n",
       "title    Apple Inc.  MICROSOFT CORP  Alphabet Inc.  AMAZON COM INC   \n",
       "\n",
       "               4                     5            6      \\\n",
       "cik_str      1045810               1326801      1318605   \n",
       "ticker          NVDA                  META         TSLA   \n",
       "title    NVIDIA CORP  Meta Platforms, Inc.  Tesla, Inc.   \n",
       "\n",
       "                          7                          8      \\\n",
       "cik_str                 1067983                    1804583   \n",
       "ticker                    BRK-B                      RAASY   \n",
       "title    BERKSHIRE HATHAWAY INC  Cloopen Group Holding Ltd   \n",
       "\n",
       "                                             9      ...  \\\n",
       "cik_str                                    1046179  ...   \n",
       "ticker                                         TSM  ...   \n",
       "title    TAIWAN SEMICONDUCTOR MANUFACTURING CO LTD  ...   \n",
       "\n",
       "                                      10655  \\\n",
       "cik_str                             1496254   \n",
       "ticker                                LTAFX   \n",
       "title    Alternative Strategies Income Fund   \n",
       "\n",
       "                                      10656                           10657  \\\n",
       "cik_str                             1496254                         1947559   \n",
       "ticker                                LTCFX                           ANZGF   \n",
       "title    Alternative Strategies Income Fund  ANZ GROUP HOLDINGS LIMITED/ADR   \n",
       "\n",
       "                                    10658              10659  \\\n",
       "cik_str                           1933644            1846702   \n",
       "ticker                              MDLVY               FIGP   \n",
       "title    Medlive Technology Co., Ltd./ADR  Forge Group, Inc.   \n",
       "\n",
       "                         10660                           10661  \\\n",
       "cik_str                1824204                         1852039   \n",
       "ticker                    PVOZ                            FILG   \n",
       "title    Park View OZ REIT Inc  Grayscale Filecoin Trust (FIL)   \n",
       "\n",
       "                  10662         10663                     10664  \n",
       "cik_str          748954       1299939                   1923734  \n",
       "ticker            ATLFF       CADE-PA                     AFTWS  \n",
       "title    ATLAS COPCO AB  Cadence Bank  Ark7 Properties Plus LLC  \n",
       "\n",
       "[3 rows x 10665 columns]"
      ]
     },
     "execution_count": 7,
     "metadata": {},
     "output_type": "execute_result"
    }
   ],
   "source": [
    "import pandas as pd    \n",
    "\n",
    "df_CIK_ticker = pd.read_json('company_tickers.json')\n",
    "\n",
    "df_CIK_ticker"
   ]
  },
  {
   "cell_type": "code",
   "execution_count": 9,
   "id": "medical-yellow",
   "metadata": {},
   "outputs": [
    {
     "data": {
      "text/html": [
       "<div>\n",
       "<style scoped>\n",
       "    .dataframe tbody tr th:only-of-type {\n",
       "        vertical-align: middle;\n",
       "    }\n",
       "\n",
       "    .dataframe tbody tr th {\n",
       "        vertical-align: top;\n",
       "    }\n",
       "\n",
       "    .dataframe thead th {\n",
       "        text-align: right;\n",
       "    }\n",
       "</style>\n",
       "<table border=\"1\" class=\"dataframe\">\n",
       "  <thead>\n",
       "    <tr style=\"text-align: right;\">\n",
       "      <th></th>\n",
       "      <th>cik_str</th>\n",
       "      <th>ticker</th>\n",
       "      <th>title</th>\n",
       "    </tr>\n",
       "  </thead>\n",
       "  <tbody>\n",
       "    <tr>\n",
       "      <th>0</th>\n",
       "      <td>320193</td>\n",
       "      <td>AAPL</td>\n",
       "      <td>Apple Inc.</td>\n",
       "    </tr>\n",
       "    <tr>\n",
       "      <th>1</th>\n",
       "      <td>789019</td>\n",
       "      <td>MSFT</td>\n",
       "      <td>MICROSOFT CORP</td>\n",
       "    </tr>\n",
       "    <tr>\n",
       "      <th>2</th>\n",
       "      <td>1652044</td>\n",
       "      <td>GOOGL</td>\n",
       "      <td>Alphabet Inc.</td>\n",
       "    </tr>\n",
       "    <tr>\n",
       "      <th>3</th>\n",
       "      <td>1018724</td>\n",
       "      <td>AMZN</td>\n",
       "      <td>AMAZON COM INC</td>\n",
       "    </tr>\n",
       "    <tr>\n",
       "      <th>4</th>\n",
       "      <td>1045810</td>\n",
       "      <td>NVDA</td>\n",
       "      <td>NVIDIA CORP</td>\n",
       "    </tr>\n",
       "  </tbody>\n",
       "</table>\n",
       "</div>"
      ],
      "text/plain": [
       "   cik_str ticker           title\n",
       "0   320193   AAPL      Apple Inc.\n",
       "1   789019   MSFT  MICROSOFT CORP\n",
       "2  1652044  GOOGL   Alphabet Inc.\n",
       "3  1018724   AMZN  AMAZON COM INC\n",
       "4  1045810   NVDA     NVIDIA CORP"
      ]
     },
     "execution_count": 9,
     "metadata": {},
     "output_type": "execute_result"
    }
   ],
   "source": [
    "df_CIK_ticker = df_CIK_ticker.T\n",
    "df_CIK_ticker.head()"
   ]
  },
  {
   "cell_type": "code",
   "execution_count": 10,
   "id": "burning-transition",
   "metadata": {},
   "outputs": [
    {
     "name": "stdout",
     "output_type": "stream",
     "text": [
      "<class 'pandas.core.frame.DataFrame'>\n",
      "Int64Index: 10665 entries, 0 to 10664\n",
      "Data columns (total 3 columns):\n",
      " #   Column   Non-Null Count  Dtype \n",
      "---  ------   --------------  ----- \n",
      " 0   cik_str  10665 non-null  object\n",
      " 1   ticker   10665 non-null  object\n",
      " 2   title    10665 non-null  object\n",
      "dtypes: object(3)\n",
      "memory usage: 591.3+ KB\n"
     ]
    }
   ],
   "source": [
    "df_CIK_ticker.info()"
   ]
  },
  {
   "cell_type": "code",
   "execution_count": 11,
   "id": "compact-reminder",
   "metadata": {},
   "outputs": [
    {
     "data": {
      "text/html": [
       "<div>\n",
       "<style scoped>\n",
       "    .dataframe tbody tr th:only-of-type {\n",
       "        vertical-align: middle;\n",
       "    }\n",
       "\n",
       "    .dataframe tbody tr th {\n",
       "        vertical-align: top;\n",
       "    }\n",
       "\n",
       "    .dataframe thead th {\n",
       "        text-align: right;\n",
       "    }\n",
       "</style>\n",
       "<table border=\"1\" class=\"dataframe\">\n",
       "  <thead>\n",
       "    <tr style=\"text-align: right;\">\n",
       "      <th></th>\n",
       "      <th>cik_str</th>\n",
       "      <th>ticker</th>\n",
       "      <th>title</th>\n",
       "    </tr>\n",
       "  </thead>\n",
       "  <tbody>\n",
       "    <tr>\n",
       "      <th>count</th>\n",
       "      <td>10665</td>\n",
       "      <td>10665</td>\n",
       "      <td>10665</td>\n",
       "    </tr>\n",
       "    <tr>\n",
       "      <th>unique</th>\n",
       "      <td>8250</td>\n",
       "      <td>10665</td>\n",
       "      <td>8249</td>\n",
       "    </tr>\n",
       "    <tr>\n",
       "      <th>top</th>\n",
       "      <td>1114446</td>\n",
       "      <td>AAPL</td>\n",
       "      <td>BARCLAYS BANK PLC</td>\n",
       "    </tr>\n",
       "    <tr>\n",
       "      <th>freq</th>\n",
       "      <td>27</td>\n",
       "      <td>1</td>\n",
       "      <td>27</td>\n",
       "    </tr>\n",
       "  </tbody>\n",
       "</table>\n",
       "</div>"
      ],
      "text/plain": [
       "        cik_str ticker              title\n",
       "count     10665  10665              10665\n",
       "unique     8250  10665               8249\n",
       "top     1114446   AAPL  BARCLAYS BANK PLC\n",
       "freq         27      1                 27"
      ]
     },
     "execution_count": 11,
     "metadata": {},
     "output_type": "execute_result"
    }
   ],
   "source": [
    "df_CIK_ticker.describe()"
   ]
  },
  {
   "cell_type": "markdown",
   "id": "related-superior",
   "metadata": {},
   "source": [
    "Один CIK може відповідати одному чи більше тікеру. Наприклад:\n",
    "\n",
    "Alternative Strategies Income Fund\n",
    "\n",
    "Class A Shares (LTAFX)\n",
    "\n",
    "Class C Shares (LTCFX)\n",
    "\n",
    "https://www.sec.gov/ix?doc=/Archives/edgar/data/1496254/000158064223005248/alt-strat_486b.htm\n",
    "\n",
    "=> тікер в нашому наборі даних має бути унікальним, але не CIK або title (назва компанії)"
   ]
  },
  {
   "cell_type": "code",
   "execution_count": 13,
   "id": "respiratory-moderator",
   "metadata": {},
   "outputs": [
    {
     "data": {
      "text/html": [
       "<div>\n",
       "<style scoped>\n",
       "    .dataframe tbody tr th:only-of-type {\n",
       "        vertical-align: middle;\n",
       "    }\n",
       "\n",
       "    .dataframe tbody tr th {\n",
       "        vertical-align: top;\n",
       "    }\n",
       "\n",
       "    .dataframe thead th {\n",
       "        text-align: right;\n",
       "    }\n",
       "</style>\n",
       "<table border=\"1\" class=\"dataframe\">\n",
       "  <thead>\n",
       "    <tr style=\"text-align: right;\">\n",
       "      <th></th>\n",
       "      <th>cik_str</th>\n",
       "      <th>ticker</th>\n",
       "      <th>title</th>\n",
       "    </tr>\n",
       "  </thead>\n",
       "  <tbody>\n",
       "    <tr>\n",
       "      <th>10655</th>\n",
       "      <td>1496254</td>\n",
       "      <td>LTAFX</td>\n",
       "      <td>Alternative Strategies Income Fund</td>\n",
       "    </tr>\n",
       "    <tr>\n",
       "      <th>10656</th>\n",
       "      <td>1496254</td>\n",
       "      <td>LTCFX</td>\n",
       "      <td>Alternative Strategies Income Fund</td>\n",
       "    </tr>\n",
       "  </tbody>\n",
       "</table>\n",
       "</div>"
      ],
      "text/plain": [
       "       cik_str ticker                               title\n",
       "10655  1496254  LTAFX  Alternative Strategies Income Fund\n",
       "10656  1496254  LTCFX  Alternative Strategies Income Fund"
      ]
     },
     "execution_count": 13,
     "metadata": {},
     "output_type": "execute_result"
    }
   ],
   "source": [
    "df_CIK_ticker[(df_CIK_ticker['cik_str'] == 1496254)]"
   ]
  },
  {
   "cell_type": "code",
   "execution_count": 14,
   "id": "biblical-proposal",
   "metadata": {},
   "outputs": [],
   "source": [
    "from sqlalchemy import create_engine\n",
    "import urllib\n",
    "\n",
    "quoted = urllib.parse.quote_plus(\"Driver={SQL Server Native Client 11.0};Server=VIKTOR-PC-2001;Database=DividendPolicyResearch;Trusted_Connection=yes;\")\n",
    "engine = create_engine('mssql+pyodbc:///?odbc_connect={}'.format(quoted))"
   ]
  },
  {
   "cell_type": "code",
   "execution_count": 15,
   "id": "quiet-blame",
   "metadata": {},
   "outputs": [],
   "source": [
    "df_CIK_ticker.to_sql('tb_CIK_ticker', schema='dbo', con = engine, if_exists='append',index=False)"
   ]
  },
  {
   "cell_type": "code",
   "execution_count": 16,
   "id": "accepted-holocaust",
   "metadata": {},
   "outputs": [
    {
     "data": {
      "text/plain": [
       "10665"
      ]
     },
     "execution_count": 16,
     "metadata": {},
     "output_type": "execute_result"
    }
   ],
   "source": [
    "result = engine.execute('SELECT COUNT(*) FROM [dbo].[tb_CIK_ticker]')\n",
    "result.fetchall()[0][0] "
   ]
  }
 ],
 "metadata": {
  "kernelspec": {
   "display_name": "Python 3",
   "language": "python",
   "name": "python3"
  },
  "language_info": {
   "codemirror_mode": {
    "name": "ipython",
    "version": 3
   },
   "file_extension": ".py",
   "mimetype": "text/x-python",
   "name": "python",
   "nbconvert_exporter": "python",
   "pygments_lexer": "ipython3",
   "version": "3.7.8"
  }
 },
 "nbformat": 4,
 "nbformat_minor": 5
}
