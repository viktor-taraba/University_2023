{
  "nbformat": 4,
  "nbformat_minor": 0,
  "metadata": {
    "colab": {
      "provenance": []
    },
    "kernelspec": {
      "name": "python3",
      "display_name": "Python 3"
    },
    "language_info": {
      "name": "python"
    }
  },
  "cells": [
    {
      "cell_type": "code",
      "execution_count": 1,
      "metadata": {
        "id": "PIpTEJ1PPQ8J"
      },
      "outputs": [],
      "source": [
        "import yfinance as yf"
      ]
    },
    {
      "cell_type": "code",
      "source": [
        "apple = yf.Ticker(\"AAPL\")\n",
        "splits = apple.splits"
      ],
      "metadata": {
        "id": "9j2ZabmOPbxI"
      },
      "execution_count": 2,
      "outputs": []
    },
    {
      "cell_type": "code",
      "source": [
        "splits"
      ],
      "metadata": {
        "colab": {
          "base_uri": "https://localhost:8080/"
        },
        "id": "JOncxL5HPwDa",
        "outputId": "c808d82f-3d5e-4806-a309-e2cc5364c330"
      },
      "execution_count": 3,
      "outputs": [
        {
          "output_type": "execute_result",
          "data": {
            "text/plain": [
              "Date\n",
              "1987-06-16 00:00:00-04:00    2.0\n",
              "2000-06-21 00:00:00-04:00    2.0\n",
              "2005-02-28 00:00:00-05:00    2.0\n",
              "2014-06-09 00:00:00-04:00    7.0\n",
              "2020-08-31 00:00:00-04:00    4.0\n",
              "Name: Stock Splits, dtype: float64"
            ]
          },
          "metadata": {},
          "execution_count": 3
        }
      ]
    },
    {
      "cell_type": "code",
      "source": [
        "apple.info"
      ],
      "metadata": {
        "id": "VqXJkSSlQYQs",
        "outputId": "5809ddb7-21b3-430b-9448-cc60c40e6a4b",
        "colab": {
          "base_uri": "https://localhost:8080/"
        }
      },
      "execution_count": 4,
      "outputs": [
        {
          "output_type": "execute_result",
          "data": {
            "text/plain": [
              "{'address1': 'One Apple Park Way',\n",
              " 'city': 'Cupertino',\n",
              " 'state': 'CA',\n",
              " 'zip': '95014',\n",
              " 'country': 'United States',\n",
              " 'phone': '408 996 1010',\n",
              " 'website': 'https://www.apple.com',\n",
              " 'industry': 'Consumer Electronics',\n",
              " 'industryKey': 'consumer-electronics',\n",
              " 'industryDisp': 'Consumer Electronics',\n",
              " 'sector': 'Technology',\n",
              " 'sectorKey': 'technology',\n",
              " 'sectorDisp': 'Technology',\n",
              " 'longBusinessSummary': 'Apple Inc. designs, manufactures, and markets smartphones, personal computers, tablets, wearables, and accessories worldwide. The company offers iPhone, a line of smartphones; Mac, a line of personal computers; iPad, a line of multi-purpose tablets; and wearables, home, and accessories comprising AirPods, Apple TV, Apple Watch, Beats products, and HomePod. It also provides AppleCare support and cloud services; and operates various platforms, including the App Store that allow customers to discover and download applications and digital content, such as books, music, video, games, and podcasts. In addition, the company offers various services, such as Apple Arcade, a game subscription service; Apple Fitness+, a personalized fitness service; Apple Music, which offers users a curated listening experience with on-demand radio stations; Apple News+, a subscription news and magazine service; Apple TV+, which offers exclusive original content; Apple Card, a co-branded credit card; and Apple Pay, a cashless payment service, as well as licenses its intellectual property. The company serves consumers, and small and mid-sized businesses; and the education, enterprise, and government markets. It distributes third-party applications for its products through the App Store. The company also sells its products through its retail and online stores, and direct sales force; and third-party cellular network carriers, wholesalers, retailers, and resellers. Apple Inc. was founded in 1976 and is headquartered in Cupertino, California.',\n",
              " 'fullTimeEmployees': 161000,\n",
              " 'companyOfficers': [{'maxAge': 1,\n",
              "   'name': 'Mr. Timothy D. Cook',\n",
              "   'age': 62,\n",
              "   'title': 'CEO & Director',\n",
              "   'yearBorn': 1961,\n",
              "   'fiscalYear': 2022,\n",
              "   'totalPay': 16425933,\n",
              "   'exercisedValue': 0,\n",
              "   'unexercisedValue': 0},\n",
              "  {'maxAge': 1,\n",
              "   'name': 'Mr. Luca  Maestri',\n",
              "   'age': 60,\n",
              "   'title': 'CFO & Senior VP',\n",
              "   'yearBorn': 1963,\n",
              "   'fiscalYear': 2022,\n",
              "   'totalPay': 5019783,\n",
              "   'exercisedValue': 0,\n",
              "   'unexercisedValue': 0},\n",
              "  {'maxAge': 1,\n",
              "   'name': 'Mr. Jeffrey E. Williams',\n",
              "   'age': 59,\n",
              "   'title': 'Chief Operating Officer',\n",
              "   'yearBorn': 1964,\n",
              "   'fiscalYear': 2022,\n",
              "   'totalPay': 5018337,\n",
              "   'exercisedValue': 0,\n",
              "   'unexercisedValue': 0},\n",
              "  {'maxAge': 1,\n",
              "   'name': 'Ms. Katherine L. Adams',\n",
              "   'age': 59,\n",
              "   'title': 'Senior VP, General Counsel & Secretary',\n",
              "   'yearBorn': 1964,\n",
              "   'fiscalYear': 2022,\n",
              "   'totalPay': 5015208,\n",
              "   'exercisedValue': 0,\n",
              "   'unexercisedValue': 0},\n",
              "  {'maxAge': 1,\n",
              "   'name': \"Ms. Deirdre  O'Brien\",\n",
              "   'age': 56,\n",
              "   'title': 'Senior Vice President of Retail',\n",
              "   'yearBorn': 1967,\n",
              "   'fiscalYear': 2022,\n",
              "   'totalPay': 5019783,\n",
              "   'exercisedValue': 0,\n",
              "   'unexercisedValue': 0},\n",
              "  {'maxAge': 1,\n",
              "   'name': 'Mr. Chris  Kondo',\n",
              "   'title': 'Senior Director of Corporate Accounting',\n",
              "   'fiscalYear': 2022,\n",
              "   'exercisedValue': 0,\n",
              "   'unexercisedValue': 0},\n",
              "  {'maxAge': 1,\n",
              "   'name': 'Mr. James  Wilson',\n",
              "   'title': 'Chief Technology Officer',\n",
              "   'fiscalYear': 2022,\n",
              "   'exercisedValue': 0,\n",
              "   'unexercisedValue': 0},\n",
              "  {'maxAge': 1,\n",
              "   'name': 'Suhasini  Chandramouli',\n",
              "   'title': 'Director of Investor Relations',\n",
              "   'fiscalYear': 2022,\n",
              "   'exercisedValue': 0,\n",
              "   'unexercisedValue': 0},\n",
              "  {'maxAge': 1,\n",
              "   'name': 'Mr. Greg  Joswiak',\n",
              "   'title': 'Senior Vice President of Worldwide Marketing',\n",
              "   'fiscalYear': 2022,\n",
              "   'exercisedValue': 0,\n",
              "   'unexercisedValue': 0},\n",
              "  {'maxAge': 1,\n",
              "   'name': 'Mr. Adrian  Perica',\n",
              "   'age': 49,\n",
              "   'title': 'Head of Corporate Development',\n",
              "   'yearBorn': 1974,\n",
              "   'fiscalYear': 2022,\n",
              "   'exercisedValue': 0,\n",
              "   'unexercisedValue': 0}],\n",
              " 'auditRisk': 4,\n",
              " 'boardRisk': 1,\n",
              " 'compensationRisk': 6,\n",
              " 'shareHolderRightsRisk': 1,\n",
              " 'overallRisk': 1,\n",
              " 'governanceEpochDate': 1704067200,\n",
              " 'compensationAsOfEpochDate': 1672444800,\n",
              " 'maxAge': 86400,\n",
              " 'priceHint': 2,\n",
              " 'previousClose': 181.18,\n",
              " 'open': 181.99,\n",
              " 'dayLow': 181.5,\n",
              " 'dayHigh': 185.59,\n",
              " 'regularMarketPreviousClose': 181.18,\n",
              " 'regularMarketOpen': 181.99,\n",
              " 'regularMarketDayLow': 181.5,\n",
              " 'regularMarketDayHigh': 185.59,\n",
              " 'dividendRate': 0.96,\n",
              " 'dividendYield': 0.0053,\n",
              " 'exDividendDate': 1699574400,\n",
              " 'payoutRatio': 0.1533,\n",
              " 'fiveYearAvgDividendYield': 0.8,\n",
              " 'beta': 1.29,\n",
              " 'trailingPE': 30.320261,\n",
              " 'forwardPE': 25.952446,\n",
              " 'volume': 55440213,\n",
              " 'regularMarketVolume': 55440213,\n",
              " 'averageVolume': 54028051,\n",
              " 'averageVolume10days': 51248110,\n",
              " 'averageDailyVolume10Day': 51248110,\n",
              " 'bid': 185.09,\n",
              " 'ask': 185.2,\n",
              " 'bidSize': 800,\n",
              " 'askSize': 800,\n",
              " 'marketCap': 2885977374720,\n",
              " 'fiftyTwoWeekLow': 128.12,\n",
              " 'fiftyTwoWeekHigh': 199.62,\n",
              " 'priceToSalesTrailing12Months': 7.529586,\n",
              " 'fiftyDayAverage': 187.3978,\n",
              " 'twoHundredDayAverage': 180.01515,\n",
              " 'trailingAnnualDividendRate': 0.94,\n",
              " 'trailingAnnualDividendYield': 0.005188211,\n",
              " 'currency': 'USD',\n",
              " 'enterpriseValue': 2880222527488,\n",
              " 'profitMargins': 0.25305998,\n",
              " 'floatShares': 15535488445,\n",
              " 'sharesOutstanding': 15552799744,\n",
              " 'sharesShort': 120233720,\n",
              " 'sharesShortPriorMonth': 105837123,\n",
              " 'sharesShortPreviousMonthDate': 1700006400,\n",
              " 'dateShortInterest': 1702598400,\n",
              " 'sharesPercentSharesOut': 0.0077,\n",
              " 'heldPercentInsiders': 0.00074,\n",
              " 'heldPercentInstitutions': 0.61495996,\n",
              " 'shortRatio': 2.29,\n",
              " 'shortPercentOfFloat': 0.0077,\n",
              " 'impliedSharesOutstanding': 15752800256,\n",
              " 'bookValue': 3.997,\n",
              " 'priceToBook': 46.42482,\n",
              " 'lastFiscalYearEnd': 1696032000,\n",
              " 'nextFiscalYearEnd': 1727654400,\n",
              " 'mostRecentQuarter': 1696032000,\n",
              " 'earningsQuarterlyGrowth': 0.108,\n",
              " 'netIncomeToCommon': 96995000320,\n",
              " 'trailingEps': 6.12,\n",
              " 'forwardEps': 7.15,\n",
              " 'pegRatio': 4.48,\n",
              " 'lastSplitFactor': '4:1',\n",
              " 'lastSplitDate': 1598832000,\n",
              " 'enterpriseToRevenue': 7.515,\n",
              " 'enterpriseToEbitda': 22.892,\n",
              " '52WeekChange': 0.39208603,\n",
              " 'SandP52WeekChange': 0.20686829,\n",
              " 'lastDividendValue': 0.24,\n",
              " 'lastDividendDate': 1699574400,\n",
              " 'exchange': 'NMS',\n",
              " 'quoteType': 'EQUITY',\n",
              " 'symbol': 'AAPL',\n",
              " 'underlyingSymbol': 'AAPL',\n",
              " 'shortName': 'Apple Inc.',\n",
              " 'longName': 'Apple Inc.',\n",
              " 'firstTradeDateEpochUtc': 345479400,\n",
              " 'timeZoneFullName': 'America/New_York',\n",
              " 'timeZoneShortName': 'EST',\n",
              " 'uuid': '8b10e4ae-9eeb-3684-921a-9ab27e4d87aa',\n",
              " 'messageBoardId': 'finmb_24937',\n",
              " 'gmtOffSetMilliseconds': -18000000,\n",
              " 'currentPrice': 185.56,\n",
              " 'targetHighPrice': 250.0,\n",
              " 'targetLowPrice': 159.0,\n",
              " 'targetMeanPrice': 199.57,\n",
              " 'targetMedianPrice': 200.0,\n",
              " 'recommendationMean': 2.2,\n",
              " 'recommendationKey': 'buy',\n",
              " 'numberOfAnalystOpinions': 39,\n",
              " 'totalCash': 61554999296,\n",
              " 'totalCashPerShare': 3.958,\n",
              " 'ebitda': 125820002304,\n",
              " 'totalDebt': 123930001408,\n",
              " 'quickRatio': 0.843,\n",
              " 'currentRatio': 0.988,\n",
              " 'totalRevenue': 383285002240,\n",
              " 'debtToEquity': 199.418,\n",
              " 'revenuePerShare': 24.344,\n",
              " 'returnOnAssets': 0.20256001,\n",
              " 'returnOnEquity': 1.7195,\n",
              " 'grossProfits': 170782000000,\n",
              " 'freeCashflow': 82179997696,\n",
              " 'operatingCashflow': 110543003648,\n",
              " 'earningsGrowth': 0.135,\n",
              " 'revenueGrowth': -0.007,\n",
              " 'grossMargins': 0.44131002,\n",
              " 'ebitdaMargins': 0.32827,\n",
              " 'operatingMargins': 0.30134,\n",
              " 'financialCurrency': 'USD',\n",
              " 'trailingPegRatio': 2.1717}"
            ]
          },
          "metadata": {},
          "execution_count": 4
        }
      ]
    },
    {
      "cell_type": "code",
      "source": [
        "apple.dividends"
      ],
      "metadata": {
        "colab": {
          "base_uri": "https://localhost:8080/"
        },
        "id": "ct552-DTPpkF",
        "outputId": "82c2048b-d10f-4fed-b761-50484b968c4b"
      },
      "execution_count": 5,
      "outputs": [
        {
          "output_type": "execute_result",
          "data": {
            "text/plain": [
              "Date\n",
              "1987-05-11 00:00:00-04:00    0.000536\n",
              "1987-08-10 00:00:00-04:00    0.000536\n",
              "1987-11-17 00:00:00-05:00    0.000714\n",
              "1988-02-12 00:00:00-05:00    0.000714\n",
              "1988-05-16 00:00:00-04:00    0.000714\n",
              "                               ...   \n",
              "2022-11-04 00:00:00-04:00    0.230000\n",
              "2023-02-10 00:00:00-05:00    0.230000\n",
              "2023-05-12 00:00:00-04:00    0.240000\n",
              "2023-08-11 00:00:00-04:00    0.240000\n",
              "2023-11-10 00:00:00-05:00    0.240000\n",
              "Name: Dividends, Length: 81, dtype: float64"
            ]
          },
          "metadata": {},
          "execution_count": 5
        }
      ]
    },
    {
      "cell_type": "markdown",
      "source": [
        "# **Stock split example**"
      ],
      "metadata": {
        "id": "hrlrIRr55nIU"
      }
    },
    {
      "cell_type": "code",
      "source": [
        "GOOG = yf.Ticker(\"GOOG\")\n",
        "splits = GOOG.splits\n",
        "splits"
      ],
      "metadata": {
        "colab": {
          "base_uri": "https://localhost:8080/"
        },
        "id": "ProzljbrPjCT",
        "outputId": "567a4328-24ac-4bfd-8f29-5daced87858b"
      },
      "execution_count": 6,
      "outputs": [
        {
          "output_type": "execute_result",
          "data": {
            "text/plain": [
              "Date\n",
              "2014-03-27 00:00:00-04:00     2.002000\n",
              "2015-04-27 00:00:00-04:00     1.002746\n",
              "2022-07-18 00:00:00-04:00    20.000000\n",
              "Name: Stock Splits, dtype: float64"
            ]
          },
          "metadata": {},
          "execution_count": 6
        }
      ]
    },
    {
      "cell_type": "code",
      "source": [
        "GOOGL = yf.Ticker(\"GOOGL\")\n",
        "splits = GOOGL.splits\n",
        "splits"
      ],
      "metadata": {
        "colab": {
          "base_uri": "https://localhost:8080/"
        },
        "id": "pzvWi03JP3bQ",
        "outputId": "c628d90b-c877-42ed-c24d-884316ad7d53"
      },
      "execution_count": 7,
      "outputs": [
        {
          "output_type": "execute_result",
          "data": {
            "text/plain": [
              "Date\n",
              "2014-04-03 00:00:00-04:00     1.998\n",
              "2022-07-18 00:00:00-04:00    20.000\n",
              "Name: Stock Splits, dtype: float64"
            ]
          },
          "metadata": {},
          "execution_count": 7
        }
      ]
    },
    {
      "cell_type": "markdown",
      "source": [
        "# **Reverse stock split example**"
      ],
      "metadata": {
        "id": "rxS-wN1O5hqh"
      }
    },
    {
      "cell_type": "code",
      "source": [
        "GE = yf.Ticker(\"GE\")\n",
        "splits = GE.splits\n",
        "splits"
      ],
      "metadata": {
        "colab": {
          "base_uri": "https://localhost:8080/"
        },
        "id": "7YZ_-0eY5f6b",
        "outputId": "635790ff-6910-4ca6-f4c7-a5f19fc9e70b"
      },
      "execution_count": 8,
      "outputs": [
        {
          "output_type": "execute_result",
          "data": {
            "text/plain": [
              "Date\n",
              "1971-06-08 00:00:00-04:00    2.000\n",
              "1983-06-02 00:00:00-04:00    2.000\n",
              "1987-05-26 00:00:00-04:00    2.000\n",
              "1994-05-16 00:00:00-04:00    2.000\n",
              "1997-05-12 00:00:00-04:00    2.000\n",
              "2000-05-08 00:00:00-04:00    3.000\n",
              "2019-02-26 00:00:00-05:00    1.040\n",
              "2021-08-02 00:00:00-04:00    0.125\n",
              "2023-01-04 00:00:00-05:00    1.281\n",
              "Name: Stock Splits, dtype: float64"
            ]
          },
          "metadata": {},
          "execution_count": 8
        }
      ]
    }
  ]
}